{
 "cells": [
  {
   "cell_type": "code",
   "execution_count": 1,
   "id": "301ffdd0-c4d7-4b0e-842e-9260c42778b2",
   "metadata": {},
   "outputs": [],
   "source": [
    "import pandas as pd\n",
    "import numpy as np\n",
    "import matplotlib.pyplot as plt\n",
    "import seaborn as sns"
   ]
  },
  {
   "cell_type": "code",
   "execution_count": 2,
   "id": "5c924319-1c80-48e7-812e-6c799bc16e62",
   "metadata": {},
   "outputs": [
    {
     "data": {
      "text/html": [
       "<div>\n",
       "<style scoped>\n",
       "    .dataframe tbody tr th:only-of-type {\n",
       "        vertical-align: middle;\n",
       "    }\n",
       "\n",
       "    .dataframe tbody tr th {\n",
       "        vertical-align: top;\n",
       "    }\n",
       "\n",
       "    .dataframe thead th {\n",
       "        text-align: right;\n",
       "    }\n",
       "</style>\n",
       "<table border=\"1\" class=\"dataframe\">\n",
       "  <thead>\n",
       "    <tr style=\"text-align: right;\">\n",
       "      <th></th>\n",
       "      <th>Country or Area</th>\n",
       "      <th>Year</th>\n",
       "      <th>Value</th>\n",
       "      <th>Value Footnotes</th>\n",
       "    </tr>\n",
       "  </thead>\n",
       "  <tbody>\n",
       "    <tr>\n",
       "      <th>0</th>\n",
       "      <td>Afghanistan</td>\n",
       "      <td>2023</td>\n",
       "      <td>1992.424394</td>\n",
       "      <td>NaN</td>\n",
       "    </tr>\n",
       "    <tr>\n",
       "      <th>1</th>\n",
       "      <td>Afghanistan</td>\n",
       "      <td>2022</td>\n",
       "      <td>1981.710168</td>\n",
       "      <td>NaN</td>\n",
       "    </tr>\n",
       "    <tr>\n",
       "      <th>2</th>\n",
       "      <td>Afghanistan</td>\n",
       "      <td>2021</td>\n",
       "      <td>2144.166570</td>\n",
       "      <td>NaN</td>\n",
       "    </tr>\n",
       "    <tr>\n",
       "      <th>3</th>\n",
       "      <td>Afghanistan</td>\n",
       "      <td>2020</td>\n",
       "      <td>2769.685745</td>\n",
       "      <td>NaN</td>\n",
       "    </tr>\n",
       "    <tr>\n",
       "      <th>4</th>\n",
       "      <td>Afghanistan</td>\n",
       "      <td>2019</td>\n",
       "      <td>2927.245144</td>\n",
       "      <td>NaN</td>\n",
       "    </tr>\n",
       "    <tr>\n",
       "      <th>...</th>\n",
       "      <td>...</td>\n",
       "      <td>...</td>\n",
       "      <td>...</td>\n",
       "      <td>...</td>\n",
       "    </tr>\n",
       "    <tr>\n",
       "      <th>8214</th>\n",
       "      <td>Zimbabwe</td>\n",
       "      <td>1994</td>\n",
       "      <td>3965.730986</td>\n",
       "      <td>NaN</td>\n",
       "    </tr>\n",
       "    <tr>\n",
       "      <th>8215</th>\n",
       "      <td>Zimbabwe</td>\n",
       "      <td>1993</td>\n",
       "      <td>3634.750494</td>\n",
       "      <td>NaN</td>\n",
       "    </tr>\n",
       "    <tr>\n",
       "      <th>8216</th>\n",
       "      <td>Zimbabwe</td>\n",
       "      <td>1992</td>\n",
       "      <td>3649.891947</td>\n",
       "      <td>NaN</td>\n",
       "    </tr>\n",
       "    <tr>\n",
       "      <th>8217</th>\n",
       "      <td>Zimbabwe</td>\n",
       "      <td>1991</td>\n",
       "      <td>4126.405247</td>\n",
       "      <td>NaN</td>\n",
       "    </tr>\n",
       "    <tr>\n",
       "      <th>8218</th>\n",
       "      <td>Zimbabwe</td>\n",
       "      <td>1990</td>\n",
       "      <td>4013.299059</td>\n",
       "      <td>NaN</td>\n",
       "    </tr>\n",
       "  </tbody>\n",
       "</table>\n",
       "<p>8219 rows × 4 columns</p>\n",
       "</div>"
      ],
      "text/plain": [
       "     Country or Area  Year        Value  Value Footnotes\n",
       "0        Afghanistan  2023  1992.424394              NaN\n",
       "1        Afghanistan  2022  1981.710168              NaN\n",
       "2        Afghanistan  2021  2144.166570              NaN\n",
       "3        Afghanistan  2020  2769.685745              NaN\n",
       "4        Afghanistan  2019  2927.245144              NaN\n",
       "...              ...   ...          ...              ...\n",
       "8214        Zimbabwe  1994  3965.730986              NaN\n",
       "8215        Zimbabwe  1993  3634.750494              NaN\n",
       "8216        Zimbabwe  1992  3649.891947              NaN\n",
       "8217        Zimbabwe  1991  4126.405247              NaN\n",
       "8218        Zimbabwe  1990  4013.299059              NaN\n",
       "\n",
       "[8219 rows x 4 columns]"
      ]
     },
     "execution_count": 2,
     "metadata": {},
     "output_type": "execute_result"
    }
   ],
   "source": [
    "pd.read_csv('../data/gdp_percapita.csv')"
   ]
  },
  {
   "cell_type": "markdown",
   "id": "79a6e1d0-fcee-45bf-8604-74d33ce2675d",
   "metadata": {},
   "source": [
    "#4 Using the pandas read_csv() method, read the GDP dataset into your notebook as a DataFrame called gdp_df.\n",
    "#Take a look at the first few and last few rows to familiarize yourself with what is contained in this dataset.\n"
   ]
  },
  {
   "cell_type": "code",
   "execution_count": 3,
   "id": "ce7a880e-583f-4190-ba82-382716ea4762",
   "metadata": {},
   "outputs": [
    {
     "name": "stdout",
     "output_type": "stream",
     "text": [
      "     Country or Area  Year        Value  Value Footnotes\n",
      "0        Afghanistan  2023  1992.424394              NaN\n",
      "1        Afghanistan  2022  1981.710168              NaN\n",
      "2        Afghanistan  2021  2144.166570              NaN\n",
      "3        Afghanistan  2020  2769.685745              NaN\n",
      "4        Afghanistan  2019  2927.245144              NaN\n",
      "...              ...   ...          ...              ...\n",
      "8214        Zimbabwe  1994  3965.730986              NaN\n",
      "8215        Zimbabwe  1993  3634.750494              NaN\n",
      "8216        Zimbabwe  1992  3649.891947              NaN\n",
      "8217        Zimbabwe  1991  4126.405247              NaN\n",
      "8218        Zimbabwe  1990  4013.299059              NaN\n",
      "\n",
      "[8219 rows x 4 columns]\n"
     ]
    }
   ],
   "source": [
    "gdp_df=pd.read_csv('../data/gdp_percapita.csv')\n",
    "print (gdp_df)"
   ]
  },
  {
   "cell_type": "markdown",
   "id": "2339eb90-29c5-40f8-b311-1b44ee77b2d3",
   "metadata": {},
   "source": [
    "#5 How many rows and columns are in gdp_df? What are the data types of each column?\n"
   ]
  },
  {
   "cell_type": "code",
   "execution_count": 4,
   "id": "55f6a739-ad85-48cf-9c9e-ae6f51a005ed",
   "metadata": {},
   "outputs": [
    {
     "name": "stdout",
     "output_type": "stream",
     "text": [
      "<class 'pandas.core.frame.DataFrame'>\n",
      "RangeIndex: 8219 entries, 0 to 8218\n",
      "Data columns (total 4 columns):\n",
      " #   Column           Non-Null Count  Dtype  \n",
      "---  ------           --------------  -----  \n",
      " 0   Country or Area  8219 non-null   object \n",
      " 1   Year             8219 non-null   int64  \n",
      " 2   Value            8219 non-null   float64\n",
      " 3   Value Footnotes  0 non-null      float64\n",
      "dtypes: float64(2), int64(1), object(1)\n",
      "memory usage: 257.0+ KB\n"
     ]
    }
   ],
   "source": [
    "gdp_df.info()"
   ]
  },
  {
   "cell_type": "markdown",
   "id": "f903bf02-bc53-4122-8c32-3bcc6e14ff8c",
   "metadata": {},
   "source": [
    "#6 Drop the Value Footnotes column and rename the remaining three to 'Country', 'Year', and 'GDP_Per_Capita'.\n"
   ]
  },
  {
   "cell_type": "code",
   "execution_count": 5,
   "id": "136a4ba6-d85c-4e0f-9dbb-0655b213aa3c",
   "metadata": {},
   "outputs": [
    {
     "data": {
      "text/html": [
       "<div>\n",
       "<style scoped>\n",
       "    .dataframe tbody tr th:only-of-type {\n",
       "        vertical-align: middle;\n",
       "    }\n",
       "\n",
       "    .dataframe tbody tr th {\n",
       "        vertical-align: top;\n",
       "    }\n",
       "\n",
       "    .dataframe thead th {\n",
       "        text-align: right;\n",
       "    }\n",
       "</style>\n",
       "<table border=\"1\" class=\"dataframe\">\n",
       "  <thead>\n",
       "    <tr style=\"text-align: right;\">\n",
       "      <th></th>\n",
       "      <th>Country or Area</th>\n",
       "      <th>Year</th>\n",
       "      <th>Value</th>\n",
       "    </tr>\n",
       "  </thead>\n",
       "  <tbody>\n",
       "    <tr>\n",
       "      <th>0</th>\n",
       "      <td>Afghanistan</td>\n",
       "      <td>2023</td>\n",
       "      <td>1992.424394</td>\n",
       "    </tr>\n",
       "    <tr>\n",
       "      <th>1</th>\n",
       "      <td>Afghanistan</td>\n",
       "      <td>2022</td>\n",
       "      <td>1981.710168</td>\n",
       "    </tr>\n",
       "    <tr>\n",
       "      <th>2</th>\n",
       "      <td>Afghanistan</td>\n",
       "      <td>2021</td>\n",
       "      <td>2144.166570</td>\n",
       "    </tr>\n",
       "    <tr>\n",
       "      <th>3</th>\n",
       "      <td>Afghanistan</td>\n",
       "      <td>2020</td>\n",
       "      <td>2769.685745</td>\n",
       "    </tr>\n",
       "    <tr>\n",
       "      <th>4</th>\n",
       "      <td>Afghanistan</td>\n",
       "      <td>2019</td>\n",
       "      <td>2927.245144</td>\n",
       "    </tr>\n",
       "    <tr>\n",
       "      <th>...</th>\n",
       "      <td>...</td>\n",
       "      <td>...</td>\n",
       "      <td>...</td>\n",
       "    </tr>\n",
       "    <tr>\n",
       "      <th>8214</th>\n",
       "      <td>Zimbabwe</td>\n",
       "      <td>1994</td>\n",
       "      <td>3965.730986</td>\n",
       "    </tr>\n",
       "    <tr>\n",
       "      <th>8215</th>\n",
       "      <td>Zimbabwe</td>\n",
       "      <td>1993</td>\n",
       "      <td>3634.750494</td>\n",
       "    </tr>\n",
       "    <tr>\n",
       "      <th>8216</th>\n",
       "      <td>Zimbabwe</td>\n",
       "      <td>1992</td>\n",
       "      <td>3649.891947</td>\n",
       "    </tr>\n",
       "    <tr>\n",
       "      <th>8217</th>\n",
       "      <td>Zimbabwe</td>\n",
       "      <td>1991</td>\n",
       "      <td>4126.405247</td>\n",
       "    </tr>\n",
       "    <tr>\n",
       "      <th>8218</th>\n",
       "      <td>Zimbabwe</td>\n",
       "      <td>1990</td>\n",
       "      <td>4013.299059</td>\n",
       "    </tr>\n",
       "  </tbody>\n",
       "</table>\n",
       "<p>8219 rows × 3 columns</p>\n",
       "</div>"
      ],
      "text/plain": [
       "     Country or Area  Year        Value\n",
       "0        Afghanistan  2023  1992.424394\n",
       "1        Afghanistan  2022  1981.710168\n",
       "2        Afghanistan  2021  2144.166570\n",
       "3        Afghanistan  2020  2769.685745\n",
       "4        Afghanistan  2019  2927.245144\n",
       "...              ...   ...          ...\n",
       "8214        Zimbabwe  1994  3965.730986\n",
       "8215        Zimbabwe  1993  3634.750494\n",
       "8216        Zimbabwe  1992  3649.891947\n",
       "8217        Zimbabwe  1991  4126.405247\n",
       "8218        Zimbabwe  1990  4013.299059\n",
       "\n",
       "[8219 rows x 3 columns]"
      ]
     },
     "execution_count": 5,
     "metadata": {},
     "output_type": "execute_result"
    }
   ],
   "source": [
    "gdp_df = gdp_df.drop(columns = ['Value Footnotes'])\n",
    "gdp_df"
   ]
  },
  {
   "cell_type": "code",
   "execution_count": 6,
   "id": "7596952f-e947-4d07-80d2-537f1ebd8e47",
   "metadata": {},
   "outputs": [
    {
     "name": "stdout",
     "output_type": "stream",
     "text": [
      "<class 'pandas.core.frame.DataFrame'>\n",
      "RangeIndex: 8219 entries, 0 to 8218\n",
      "Data columns (total 3 columns):\n",
      " #   Column          Non-Null Count  Dtype  \n",
      "---  ------          --------------  -----  \n",
      " 0   Country         8219 non-null   object \n",
      " 1   Year            8219 non-null   int64  \n",
      " 2   GDP_Per_Capita  8219 non-null   float64\n",
      "dtypes: float64(1), int64(1), object(1)\n",
      "memory usage: 192.8+ KB\n"
     ]
    }
   ],
   "source": [
    "gdp_df = gdp_df.rename(columns={\"Country or Area\":\"Country\",\"Value\":\"GDP_Per_Capita\"})\n",
    "gdp_df.info()\n"
   ]
  },
  {
   "cell_type": "markdown",
   "id": "48fa511a-fc77-44fe-a210-e31ca65923fe",
   "metadata": {},
   "source": [
    "7 How many countries have data for all years? Which countries are missing many years of data?\n",
    "#Look at the number of observations per year. What do you notice?\n"
   ]
  },
  {
   "cell_type": "code",
   "execution_count": 7,
   "id": "2eca67a7-f25c-48af-bad0-a814ef44b543",
   "metadata": {},
   "outputs": [
    {
     "name": "stdout",
     "output_type": "stream",
     "text": [
      "1990\n",
      "2023\n"
     ]
    }
   ],
   "source": [
    "print(min(gdp_df.Year))\n",
    "print(max(gdp_df.Year))"
   ]
  },
  {
   "cell_type": "code",
   "execution_count": 8,
   "id": "8388f485-c18e-4e7a-a486-94f463952827",
   "metadata": {},
   "outputs": [],
   "source": [
    "countries = gdp_df.groupby('Country')['Year'].count().reset_index()"
   ]
  },
  {
   "cell_type": "code",
   "execution_count": 9,
   "id": "793ec644-67e1-451e-8a05-6a80b57c7968",
   "metadata": {},
   "outputs": [
    {
     "data": {
      "text/plain": [
       "Country    Zimbabwe\n",
       "Year             34\n",
       "dtype: object"
      ]
     },
     "execution_count": 9,
     "metadata": {},
     "output_type": "execute_result"
    }
   ],
   "source": [
    "countries.max()"
   ]
  },
  {
   "cell_type": "code",
   "execution_count": 10,
   "id": "835f2abb-26da-4ad6-865d-4aff0bfe009c",
   "metadata": {},
   "outputs": [
    {
     "data": {
      "text/plain": [
       "Country    228\n",
       "Year       228\n",
       "dtype: int64"
      ]
     },
     "execution_count": 10,
     "metadata": {},
     "output_type": "execute_result"
    }
   ],
   "source": [
    "countries[countries['Year'] == 34].count()"
   ]
  },
  {
   "cell_type": "code",
   "execution_count": 11,
   "id": "6260f9bf-0544-4d02-9f3f-5106119b6e28",
   "metadata": {},
   "outputs": [
    {
     "data": {
      "text/plain": [
       "Country    19\n",
       "Year       19\n",
       "dtype: int64"
      ]
     },
     "execution_count": 11,
     "metadata": {},
     "output_type": "execute_result"
    }
   ],
   "source": [
    "countries[countries['Year']<34].count()"
   ]
  },
  {
   "cell_type": "code",
   "execution_count": 12,
   "id": "f9650a7e-1730-490d-9487-45599f57cf3d",
   "metadata": {},
   "outputs": [],
   "source": [
    "countries_missing_data=countries[countries['Year']<34]"
   ]
  },
  {
   "cell_type": "code",
   "execution_count": 13,
   "id": "e1c7139d-4752-4061-bf35-47eebce51bec",
   "metadata": {},
   "outputs": [
    {
     "data": {
      "text/html": [
       "<div>\n",
       "<style scoped>\n",
       "    .dataframe tbody tr th:only-of-type {\n",
       "        vertical-align: middle;\n",
       "    }\n",
       "\n",
       "    .dataframe tbody tr th {\n",
       "        vertical-align: top;\n",
       "    }\n",
       "\n",
       "    .dataframe thead th {\n",
       "        text-align: right;\n",
       "    }\n",
       "</style>\n",
       "<table border=\"1\" class=\"dataframe\">\n",
       "  <thead>\n",
       "    <tr style=\"text-align: right;\">\n",
       "      <th></th>\n",
       "      <th>Country</th>\n",
       "      <th>Year</th>\n",
       "    </tr>\n",
       "  </thead>\n",
       "  <tbody>\n",
       "    <tr>\n",
       "      <th>0</th>\n",
       "      <td>Afghanistan</td>\n",
       "      <td>24</td>\n",
       "    </tr>\n",
       "    <tr>\n",
       "      <th>23</th>\n",
       "      <td>Bhutan</td>\n",
       "      <td>33</td>\n",
       "    </tr>\n",
       "    <tr>\n",
       "      <th>37</th>\n",
       "      <td>Cayman Islands</td>\n",
       "      <td>18</td>\n",
       "    </tr>\n",
       "    <tr>\n",
       "      <th>48</th>\n",
       "      <td>CuraÃ§ao</td>\n",
       "      <td>24</td>\n",
       "    </tr>\n",
       "    <tr>\n",
       "      <th>54</th>\n",
       "      <td>Djibouti</td>\n",
       "      <td>11</td>\n",
       "    </tr>\n",
       "    <tr>\n",
       "      <th>73</th>\n",
       "      <td>Faroe Islands</td>\n",
       "      <td>16</td>\n",
       "    </tr>\n",
       "    <tr>\n",
       "      <th>83</th>\n",
       "      <td>Greenland</td>\n",
       "      <td>32</td>\n",
       "    </tr>\n",
       "    <tr>\n",
       "      <th>115</th>\n",
       "      <td>Kosovo</td>\n",
       "      <td>16</td>\n",
       "    </tr>\n",
       "    <tr>\n",
       "      <th>125</th>\n",
       "      <td>Lebanon</td>\n",
       "      <td>33</td>\n",
       "    </tr>\n",
       "    <tr>\n",
       "      <th>152</th>\n",
       "      <td>Montenegro</td>\n",
       "      <td>27</td>\n",
       "    </tr>\n",
       "    <tr>\n",
       "      <th>188</th>\n",
       "      <td>San Marino</td>\n",
       "      <td>26</td>\n",
       "    </tr>\n",
       "    <tr>\n",
       "      <th>191</th>\n",
       "      <td>Serbia</td>\n",
       "      <td>29</td>\n",
       "    </tr>\n",
       "    <tr>\n",
       "      <th>195</th>\n",
       "      <td>Sint Maarten (Dutch part)</td>\n",
       "      <td>15</td>\n",
       "    </tr>\n",
       "    <tr>\n",
       "      <th>200</th>\n",
       "      <td>Somalia</td>\n",
       "      <td>33</td>\n",
       "    </tr>\n",
       "    <tr>\n",
       "      <th>216</th>\n",
       "      <td>Syrian Arab Republic</td>\n",
       "      <td>33</td>\n",
       "    </tr>\n",
       "    <tr>\n",
       "      <th>225</th>\n",
       "      <td>Tonga</td>\n",
       "      <td>33</td>\n",
       "    </tr>\n",
       "    <tr>\n",
       "      <th>229</th>\n",
       "      <td>Turks and Caicos Islands</td>\n",
       "      <td>13</td>\n",
       "    </tr>\n",
       "    <tr>\n",
       "      <th>242</th>\n",
       "      <td>Virgin Islands</td>\n",
       "      <td>21</td>\n",
       "    </tr>\n",
       "    <tr>\n",
       "      <th>243</th>\n",
       "      <td>West Bank and Gaza</td>\n",
       "      <td>30</td>\n",
       "    </tr>\n",
       "  </tbody>\n",
       "</table>\n",
       "</div>"
      ],
      "text/plain": [
       "                       Country  Year\n",
       "0                  Afghanistan    24\n",
       "23                      Bhutan    33\n",
       "37              Cayman Islands    18\n",
       "48                    CuraÃ§ao    24\n",
       "54                    Djibouti    11\n",
       "73               Faroe Islands    16\n",
       "83                   Greenland    32\n",
       "115                     Kosovo    16\n",
       "125                    Lebanon    33\n",
       "152                 Montenegro    27\n",
       "188                 San Marino    26\n",
       "191                     Serbia    29\n",
       "195  Sint Maarten (Dutch part)    15\n",
       "200                    Somalia    33\n",
       "216       Syrian Arab Republic    33\n",
       "225                      Tonga    33\n",
       "229   Turks and Caicos Islands    13\n",
       "242             Virgin Islands    21\n",
       "243         West Bank and Gaza    30"
      ]
     },
     "execution_count": 13,
     "metadata": {},
     "output_type": "execute_result"
    }
   ],
   "source": [
    "countries_missing_data"
   ]
  },
  {
   "cell_type": "code",
   "execution_count": 15,
   "id": "035a6f63-3fd7-49ef-a8be-8ba827814e97",
   "metadata": {},
   "outputs": [
    {
     "data": {
      "text/plain": [
       "Year\n",
       "1990    233\n",
       "1991    234\n",
       "1992    234\n",
       "1993    234\n",
       "1994    235\n",
       "1995    236\n",
       "1996    236\n",
       "1997    238\n",
       "1998    238\n",
       "1999    238\n",
       "2000    240\n",
       "2001    240\n",
       "2002    241\n",
       "2003    241\n",
       "2004    241\n",
       "2005    241\n",
       "2006    242\n",
       "2007    242\n",
       "2008    244\n",
       "2009    245\n",
       "2010    245\n",
       "2011    246\n",
       "2012    246\n",
       "2013    247\n",
       "2014    247\n",
       "2015    247\n",
       "2016    247\n",
       "2017    247\n",
       "2018    247\n",
       "2019    247\n",
       "2020    247\n",
       "2021    247\n",
       "2022    246\n",
       "2023    240\n",
       "Name: Country, dtype: int64"
      ]
     },
     "execution_count": 15,
     "metadata": {},
     "output_type": "execute_result"
    }
   ],
   "source": [
    "gdp_df.groupby(\"Year\")[\"Country\"].count()"
   ]
  },
  {
   "cell_type": "markdown",
   "id": "86add2f8-86cb-45ec-a977-d28674715869",
   "metadata": {},
   "source": [
    "8. In this question, you're going to create some plots to show the distribution of GDP per capita for the year 2020.\n",
    "Go to the Python Graph Gallery (https://www.python-graph-gallery.com/) and look at the different types of plots under the Distribution section.\n",
    "Create a histogram, a density plot, a boxplot, and a violin plot. What do you notice when you look at these plots? How do the plots compare \n",
    "and what information can you get out of one type that you can't necessarily get out of the others?\n"
   ]
  },
  {
   "cell_type": "code",
   "execution_count": 16,
   "id": "c9e58e52-d3d8-480a-b04f-61c222b7b027",
   "metadata": {},
   "outputs": [
    {
     "name": "stdout",
     "output_type": "stream",
     "text": [
      "      GDP_Per_Capita\n",
      "3        2769.685745\n",
      "27       3861.111238\n",
      "61       4622.731427\n",
      "95      14650.395929\n",
      "129     14194.155748\n",
      "...              ...\n",
      "8068    45055.782930\n",
      "8090     5423.682547\n",
      "8120    18600.986362\n",
      "8154     3391.595412\n",
      "8188     2987.269823\n",
      "\n",
      "[247 rows x 1 columns]\n"
     ]
    }
   ],
   "source": [
    "gdp_2020=gdp_df.loc[gdp_df[\"Year\"]==2020,[\"GDP_Per_Capita\"]]\n",
    "gdp_2020#.reset_index(drop=True)"
   ]
  },
  {
   "cell_type": "code",
   "execution_count": 17,
   "id": "2dc10213-f9f2-4265-a5d9-6c5336f780f3",
   "metadata": {},
   "outputs": [
    {
     "data": {
      "text/plain": [
       "(array([111.,  59.,  23.,  23.,  15.,   9.,   3.,   0.,   3.,   1.]),\n",
       " array([   833.92025746,  13576.18426579,  26318.44827412,  39060.71228245,\n",
       "         51802.97629078,  64545.24029911,  77287.50430744,  90029.76831577,\n",
       "        102772.0323241 , 115514.29633243, 128256.56034076]),\n",
       " <BarContainer object of 10 artists>)"
      ]
     },
     "execution_count": 17,
     "metadata": {},
     "output_type": "execute_result"
    },
    {
     "data": {
      "image/png": "[encoded data removed]",
      "text/plain": [
       "<Figure size 640x480 with 1 Axes>"
      ]
     },
     "metadata": {},
     "output_type": "display_data"
    }
   ],
   "source": [
    "plt.hist(gdp_2020)"
   ]
  },
  {
   "cell_type": "code",
   "execution_count": 18,
   "id": "4b0a4408-f412-46f9-9fa7-8c33709a361a",
   "metadata": {},
   "outputs": [
    {
     "data": {
      "text/plain": [
       "<Axes: ylabel='Density'>"
      ]
     },
     "execution_count": 18,
     "metadata": {},
     "output_type": "execute_result"
    },
    {
     "data": {
      "image/png": "[encoded data removed]",
      "text/plain": [
       "<Figure size 640x480 with 1 Axes>"
      ]
     },
     "metadata": {},
     "output_type": "display_data"
    }
   ],
   "source": [
    "sns.kdeplot(gdp_2020)"
   ]
  },
  {
   "cell_type": "code",
   "execution_count": 19,
   "id": "22327e15-9678-4721-be87-4db126bb4502",
   "metadata": {},
   "outputs": [
    {
     "data": {
      "text/plain": [
       "{'whiskers': [<matplotlib.lines.Line2D at 0x16b4d951310>,\n",
       "  <matplotlib.lines.Line2D at 0x16b4d951450>],\n",
       " 'caps': [<matplotlib.lines.Line2D at 0x16b4d951590>,\n",
       "  <matplotlib.lines.Line2D at 0x16b4d9516d0>],\n",
       " 'boxes': [<matplotlib.lines.Line2D at 0x16b4d9511d0>],\n",
       " 'medians': [<matplotlib.lines.Line2D at 0x16b4d951810>],\n",
       " 'fliers': [<matplotlib.lines.Line2D at 0x16b4d951950>],\n",
       " 'means': []}"
      ]
     },
     "execution_count": 19,
     "metadata": {},
     "output_type": "execute_result"
    },
    {
     "data": {
      "image/png": "[encoded data removed]",
      "text/plain": [
       "<Figure size 640x480 with 1 Axes>"
      ]
     },
     "metadata": {},
     "output_type": "display_data"
    }
   ],
   "source": [
    "plt.boxplot(gdp_2020)"
   ]
  },
  {
   "cell_type": "code",
   "execution_count": 20,
   "id": "ae531b73-d166-42f6-9af1-b6746c49b8ab",
   "metadata": {},
   "outputs": [
    {
     "data": {
      "text/plain": [
       "<Axes: >"
      ]
     },
     "execution_count": 20,
     "metadata": {},
     "output_type": "execute_result"
    },
    {
     "data": {
      "image/png": "[encoded data removed]",
      "text/plain": [
       "<Figure size 640x480 with 1 Axes>"
      ]
     },
     "metadata": {},
     "output_type": "display_data"
    }
   ],
   "source": [
    "sns.violinplot(gdp_2020)"
   ]
  },
  {
   "cell_type": "markdown",
   "id": "89f5482f-0dda-49dc-82fd-e5b45730d466",
   "metadata": {},
   "source": [
    "9. What was the median GDP per capita value in 2020?\n"
   ]
  },
  {
   "cell_type": "code",
   "execution_count": 21,
   "id": "7e18d83d-fded-40ad-9de4-b26244d6d9c8",
   "metadata": {},
   "outputs": [
    {
     "name": "stdout",
     "output_type": "stream",
     "text": [
      "GDP_Per_Capita    15309.235988\n",
      "dtype: float64\n"
     ]
    }
   ],
   "source": [
    "median_gdp_2020=gdp_df.loc[gdp_df[\"Year\"]==2020,[\"GDP_Per_Capita\"]]\n",
    "print(median_gdp_2020.median())\n",
    "#gdp_2020['GDP_Per_Capita'].median()\n",
    "#gdp_2020.GDP_Per_Capita.median()"
   ]
  },
  {
   "cell_type": "markdown",
   "id": "e7fafcda-a402-4b4e-b0fb-d17282e4ca73",
   "metadata": {},
   "source": [
    "10. For this question, you're going to create some visualizations to compare GDP per capita values for the years 1990, 2000, 2010, and 2020. Start by subsetting your data to just these 4 years into a new DataFrame named gdp_decades. Using this, create the following 4 plots:\n",
    "\t* A boxplot\n",
    "\t* A barplot (check out the Barplot with Seaborn section: https://www.python-graph-gallery.com/barplot/#Seaborn)\n",
    "\t* A scatterplot\n",
    "\t* A scatterplot with a trend line overlaid (see this regplot example: https://www.python-graph-gallery.com/42-custom-linear-regression-fit-seaborn)  \n",
    "Comment on what you observe has happened to GDP values over time and the relative strengths and weaknesses of each type of plot.\n"
   ]
  },
  {
   "cell_type": "code",
   "execution_count": 22,
   "id": "9ac9bad6-7833-4c5c-a213-50176aee9766",
   "metadata": {},
   "outputs": [
    {
     "name": "stdout",
     "output_type": "stream",
     "text": [
      "                          Country  Year  GDP_Per_Capita\n",
      "3                     Afghanistan  2020     2769.685745\n",
      "13                    Afghanistan  2010     2848.586061\n",
      "23                    Afghanistan  2000     1617.826475\n",
      "27    Africa Eastern and Southern  2020     3861.111238\n",
      "37    Africa Eastern and Southern  2010     3863.836012\n",
      "...                           ...   ...             ...\n",
      "8184                       Zambia  1990     2425.111287\n",
      "8188                     Zimbabwe  2020     2987.269823\n",
      "8198                     Zimbabwe  2010     2572.769992\n",
      "8208                     Zimbabwe  2000     4071.022001\n",
      "8218                     Zimbabwe  1990     4013.299059\n",
      "\n",
      "[965 rows x 3 columns]\n"
     ]
    }
   ],
   "source": [
    "gdp_decades = gdp_df.loc[gdp_df.Year.isin([1990, 2000, 2010, 2020])]\n",
    "print(gdp_decades)"
   ]
  },
  {
   "cell_type": "markdown",
   "id": "04651223-af3a-47d0-90f2-881841e823b1",
   "metadata": {},
   "source": [
    "Box plot for the years 1990,2000,2010,2020"
   ]
  },
  {
   "cell_type": "code",
   "execution_count": 23,
   "id": "db840dae-20ef-4166-906b-f4766f08750a",
   "metadata": {},
   "outputs": [
    {
     "data": {
      "text/plain": [
       "<Axes: xlabel='Year', ylabel='GDP_Per_Capita'>"
      ]
     },
     "execution_count": 23,
     "metadata": {},
     "output_type": "execute_result"
    },
    {
     "data": {
      "image/png": "[encoded data removed]",
      "text/plain": [
       "<Figure size 640x480 with 1 Axes>"
      ]
     },
     "metadata": {},
     "output_type": "display_data"
    }
   ],
   "source": [
    "sns.boxplot(data=gdp_decades, x = 'Year', y= 'GDP_Per_Capita')"
   ]
  },
  {
   "cell_type": "markdown",
   "id": "eba0163b-957b-4540-a557-2978388618c9",
   "metadata": {},
   "source": [
    "Barplot for the years"
   ]
  },
  {
   "cell_type": "code",
   "execution_count": 24,
   "id": "98cbc973-b2d0-4315-9e0e-e7505d58c907",
   "metadata": {},
   "outputs": [
    {
     "data": {
      "text/plain": [
       "<Axes: xlabel='Year', ylabel='GDP_Per_Capita'>"
      ]
     },
     "execution_count": 24,
     "metadata": {},
     "output_type": "execute_result"
    },
    {
     "data": {
      "image/png": "[encoded data removed]",
      "text/plain": [
       "<Figure size 640x480 with 1 Axes>"
      ]
     },
     "metadata": {},
     "output_type": "display_data"
    }
   ],
   "source": [
    "sns.barplot(x='Year', y='GDP_Per_Capita', data=gdp_decades)"
   ]
  },
  {
   "cell_type": "code",
   "execution_count": 25,
   "id": "a062ed74-6b41-4dea-a271-819800b6ee25",
   "metadata": {},
   "outputs": [
    {
     "data": {
      "text/plain": [
       "<Axes: xlabel='Year', ylabel='GDP_Per_Capita'>"
      ]
     },
     "execution_count": 25,
     "metadata": {},
     "output_type": "execute_result"
    },
    {
     "data": {
      "image/png": "[encoded data removed]",
      "text/plain": [
       "<Figure size 640x480 with 1 Axes>"
      ]
     },
     "metadata": {},
     "output_type": "display_data"
    }
   ],
   "source": [
    "sns.scatterplot(x='Year', y='GDP_Per_Capita', data=gdp_decades)"
   ]
  },
  {
   "cell_type": "code",
   "execution_count": 26,
   "id": "93f503db-d0b4-431a-8f56-90d53380039c",
   "metadata": {},
   "outputs": [
    {
     "data": {
      "text/plain": [
       "<Axes: xlabel='Year', ylabel='GDP_Per_Capita'>"
      ]
     },
     "execution_count": 26,
     "metadata": {},
     "output_type": "execute_result"
    },
    {
     "data": {
      "image/png": "[encoded data removed]",
      "text/plain": [
       "<Figure size 640x480 with 1 Axes>"
      ]
     },
     "metadata": {},
     "output_type": "display_data"
    }
   ],
   "source": [
    "sns.regplot(x='Year', y='GDP_Per_Capita', data=gdp_decades, scatter_kws={'alpha':0.4})"
   ]
  },
  {
   "cell_type": "markdown",
   "id": "89f0bf41-77df-4da9-84d9-e5e4b9a57e04",
   "metadata": {},
   "source": [
    "11. Which country was the first to have a GDP per capita greater than $100,000?\n"
   ]
  },
  {
   "cell_type": "markdown",
   "id": "4a01a6b9-7126-4549-b915-0331359d2a79",
   "metadata": {},
   "source": [
    "#11. # 1. Filtering for GDP per capita > $100,000\n",
    "high_gdp_countries = gdp_df[gdp_df['GDP_Per_Capita'] > 100000]\n",
    "\n",
    "# 2. Sorting by 'Year' to find the earliest occurrence\n",
    "first_high_gdp_country_row = high_gdp_countries.sort_values(by='Year').iloc[0]\n",
    "\n",
    "# 3. Extracting the country name\n",
    "first_country = first_high_gdp_country_row['Country']\n",
    "first_year = first_high_gdp_country_row['Year']\n",
    "first_gdp = first_high_gdp_country_row['GDP_Per_Capita']"
   ]
  },
  {
   "cell_type": "code",
   "execution_count": 27,
   "id": "e086b4ea-fceb-4d67-93cb-63bfe177f0b3",
   "metadata": {},
   "outputs": [
    {
     "data": {
      "text/html": [
       "<div>\n",
       "<style scoped>\n",
       "    .dataframe tbody tr th:only-of-type {\n",
       "        vertical-align: middle;\n",
       "    }\n",
       "\n",
       "    .dataframe tbody tr th {\n",
       "        vertical-align: top;\n",
       "    }\n",
       "\n",
       "    .dataframe thead th {\n",
       "        text-align: right;\n",
       "    }\n",
       "</style>\n",
       "<table border=\"1\" class=\"dataframe\">\n",
       "  <thead>\n",
       "    <tr style=\"text-align: right;\">\n",
       "      <th></th>\n",
       "      <th>Country</th>\n",
       "      <th>Year</th>\n",
       "      <th>GDP_Per_Capita</th>\n",
       "    </tr>\n",
       "  </thead>\n",
       "  <tbody>\n",
       "    <tr>\n",
       "      <th>974</th>\n",
       "      <td>Brunei</td>\n",
       "      <td>1990</td>\n",
       "      <td>118163.683198</td>\n",
       "    </tr>\n",
       "    <tr>\n",
       "      <th>7827</th>\n",
       "      <td>United Arab Emirates</td>\n",
       "      <td>1990</td>\n",
       "      <td>108057.042464</td>\n",
       "    </tr>\n",
       "  </tbody>\n",
       "</table>\n",
       "</div>"
      ],
      "text/plain": [
       "                   Country  Year  GDP_Per_Capita\n",
       "974                 Brunei  1990   118163.683198\n",
       "7827  United Arab Emirates  1990   108057.042464"
      ]
     },
     "execution_count": 27,
     "metadata": {},
     "output_type": "execute_result"
    }
   ],
   "source": [
    "gdp_over_100k=gdp_df.loc[gdp_df[\"GDP_Per_Capita\"]>100000]\n",
    "gdp_over_100k.loc[gdp_over_100k.Year==gdp_over_100k.Year.min()]"
   ]
  },
  {
   "cell_type": "markdown",
   "id": "ca90bd2c-e15c-4733-ac76-8ff7ce5c8b1f",
   "metadata": {},
   "source": [
    "12. Which country had the highest GDP per capita in 2020? Create a plot showing how this country's GDP per capita has changed over the timespan of the dataset.\n"
   ]
  },
  {
   "cell_type": "code",
   "execution_count": null,
   "id": "230ca081-20ce-47e0-8d98-5a27ece906dd",
   "metadata": {},
   "outputs": [],
   "source": [
    "#df.loc[(df['Age'] > 25) & (df['City'] == 'New York')]\n",
    "high_gdp_country=gdp_df.loc[gdp_df[\"Year\"]==2020]\n",
    "#print(high_gdp_country)\n",
    "top_gdp=high_gdp_country.sort_values(\"GDP_Per_Capita\",ascending=False)\n",
    "print(top_gdp)\n",
    "#high_gdp_country.loc[high_gdp_country.Country==high_gdp_country.GDP_Per_Capita.max()]"
   ]
  },
  {
   "cell_type": "code",
   "execution_count": null,
   "id": "ec5f7c78-4df0-4b67-97ed-950fd4b68d23",
   "metadata": {},
   "outputs": [],
   "source": [
    "#plt.plot(gdp_df[\"Country\"]==\"Luxembourg\",gdp_df[\"Year\"])\n",
    "gdp_lux=gdp_df.loc[gdp_df[\"Country\"] == \"Luxembourg\",[\"Year\",\"GDP_Per_Capita\"]]\n",
    "plt.plot(gdp_lux[\"Year\"],gdp_lux[\"GDP_Per_Capita\"])"
   ]
  },
  {
   "cell_type": "markdown",
   "id": "7f5744de-c9a6-4104-93d9-71cbdfc4e334",
   "metadata": {},
   "source": [
    "13. Which country had the lowest GDP per capita in 2020? Create a plot showing how this country's GDP per capita has changed over the timespan of the dataset. **Bonus question:** Is it true in general that coutries had a higher GDP per capita in 2020 than in 1990? Which countries had lower GDP per capita in 2020 than in 1990?\n"
   ]
  },
  {
   "cell_type": "code",
   "execution_count": null,
   "id": "76daedf1-a736-4c2f-9933-3b6ac64c5702",
   "metadata": {},
   "outputs": [],
   "source": [
    "low_gdp_country=gdp_df.loc[gdp_df[\"Year\"]==2020]\n",
    "#print(high_gdp_country)\n",
    "bottom_gdp=high_gdp_country.sort_values(\"GDP_Per_Capita\")\n",
    "print(bottom_gdp)"
   ]
  },
  {
   "cell_type": "code",
   "execution_count": null,
   "id": "424d87df-3af6-4bef-a286-988be4976b4e",
   "metadata": {},
   "outputs": [],
   "source": [
    "gdp_bur=gdp_df.loc[gdp_df[\"Country\"] == \"Burundi\",[\"Year\",\"GDP_Per_Capita\"]]\n",
    "plt.plot(gdp_bur[\"Year\"],gdp_bur[\"GDP_Per_Capita\"])"
   ]
  },
  {
   "cell_type": "markdown",
   "id": "22b064a0-9d1b-487c-99cd-986d5d9a6c8a",
   "metadata": {},
   "source": [
    "14. Read in the internet use dataset into a DataFrame named `internet_df`. You will likely get errors when doing this. Check the arguments for the read_csv function to find ones that can help correct the errors (https://pandas.pydata.org/docs/reference/api/pandas.read_csv.html) Once you are able to read it in, take per a look at the top and bottom few rows to make sure that it has been read in correctly. Also, check the datatypes of the columns.\n"
   ]
  },
  {
   "cell_type": "code",
   "execution_count": null,
   "id": "a5b26d96-2a74-4ac0-ae87-6c9041c41e66",
   "metadata": {},
   "outputs": [],
   "source": [
    "internet_df=pd.read_csv('../data/internet_use.csv', on_bad_lines='skip',engine='python',skipfooter=299)\n",
    "print(internet_df)\n",
    "internet_df.dtypes\n"
   ]
  },
  {
   "cell_type": "markdown",
   "id": "adb1651c-4ae9-4a0e-8d92-2fe309fdf64a",
   "metadata": {},
   "source": [
    "15. Drop the `Value Footnotes` column and rename the remaining three to 'Country', 'Year', and 'Internet_Users_Pct'.\n"
   ]
  },
  {
   "cell_type": "code",
   "execution_count": null,
   "id": "2b143216-bedf-49dd-9213-a98b8fd17561",
   "metadata": {},
   "outputs": [],
   "source": [
    "internet_df=internet_df.drop(columns = ['Value Footnotes'])\n",
    "internet_df=internet_df.rename(columns={\"Country or Area\":\"Country\",\"Value\":\"Internet_Users_Pct\"})\n",
    "print(internet_df)"
   ]
  },
  {
   "cell_type": "markdown",
   "id": "c59c1a28-5a17-410f-8f5c-b03541bf9a22",
   "metadata": {},
   "source": [
    "16. Look at the number of observations in this dataset per year. What do you notice?\n"
   ]
  },
  {
   "cell_type": "code",
   "execution_count": null,
   "id": "2c318f52-a949-4a90-b411-fde937aed310",
   "metadata": {},
   "outputs": [],
   "source": [
    "internet_obs=internet_df.Year.value_counts().reset_index()\n",
    "sorted_internet_obs=internet_obs.sort_values(\"Year\")\n",
    "#sns.barplot(x='Year', y='count', data=internet_obs)"
   ]
  },
  {
   "cell_type": "markdown",
   "id": "d976b874-842e-457d-b83b-25a084d3ced2",
   "metadata": {},
   "source": [
    "17. What is the first year to have a non-zero internet users percentage value?\n"
   ]
  },
  {
   "cell_type": "code",
   "execution_count": null,
   "id": "3c2476ec-e59e-48d3-88dc-3a068c8c392b",
   "metadata": {},
   "outputs": [],
   "source": [
    "internet_df.loc[internet_df[\"Internet_Users_Pct\"]!=0].sort_values(\"Year\")"
   ]
  },
  {
   "cell_type": "markdown",
   "id": "19426e6e-a4b4-4aa7-a594-0b23df1bf56d",
   "metadata": {},
   "source": [
    "18. How does the distribution of internet users percent differ for 2000 and 2014?\n"
   ]
  },
  {
   "cell_type": "code",
   "execution_count": null,
   "id": "53d628d4-313e-4048-b61c-3025dd0dada5",
   "metadata": {},
   "outputs": [],
   "source": [
    "internet_2000_2014=internet_df.loc[internet_df.Year.isin([2000,2014])]\n",
    " "
   ]
  },
  {
   "cell_type": "code",
   "execution_count": null,
   "id": "4038fe70-1109-406c-8462-a218b7255543",
   "metadata": {},
   "outputs": [],
   "source": [
    "sns.boxplot(data = internet_2000_2014, x = 'Year', y = 'Internet_Users_Pct')"
   ]
  },
  {
   "cell_type": "code",
   "execution_count": null,
   "id": "956557ce-5511-44f4-bcc8-d6432bd53cd3",
   "metadata": {},
   "outputs": [],
   "source": [
    "sns.scatterplot(x='Year', y='Internet_Users_Pct', data=internet_2000_2014)"
   ]
  },
  {
   "cell_type": "markdown",
   "id": "afa7bd5e-f9b4-419c-92d0-5302c3dab47d",
   "metadata": {},
   "source": [
    "19. For how many countries was the percentage of internet users below 5% in 2014?\n"
   ]
  },
  {
   "cell_type": "code",
   "execution_count": null,
   "id": "6410d469-9820-42b5-9163-650719b799a3",
   "metadata": {},
   "outputs": [],
   "source": [
    "internet_df.loc[(internet_df.Year == 2014) & (internet_df.Internet_Users_Pct < 5),[\"Country\"]].count()\n"
   ]
  },
  {
   "cell_type": "markdown",
   "id": "a200ceac-698a-4a68-9518-29dba19fa7b8",
   "metadata": {},
   "source": [
    "20. Merge the two DataFrames to one. Do this in a way that keeps **all rows** from each of the two DataFrames. Call the new DataFrame `gdp_and_internet_use`. Look at the first and last few rows to confirm that it merged correctly.\n"
   ]
  },
  {
   "cell_type": "code",
   "execution_count": null,
   "id": "e4c4cf25-185c-475e-98b0-49a5da30c4da",
   "metadata": {},
   "outputs": [],
   "source": [
    "gdp_and_internet_use=pd.merge(gdp_df, internet_df, on=['Country','Year'], how='outer')\n",
    "print(gdp_and_internet_use)\n"
   ]
  },
  {
   "cell_type": "markdown",
   "id": "3ace2dfb-7ef4-4ba6-990b-7e6b87d4bf1c",
   "metadata": {},
   "source": [
    "21. Find the three countries with the highest internet users percentage in 2014. Use a seaborn FacetGrid (https://seaborn.pydata.org/generated/seaborn.FacetGrid.html) to compare how the GDP per capita has changed over time for these three countries. What do you notice?"
   ]
  },
  {
   "cell_type": "code",
   "execution_count": null,
   "id": "155fb9a7-6d99-4d76-be38-32014bf9aacd",
   "metadata": {},
   "outputs": [],
   "source": [
    "top3_country=gdp_and_internet_use.loc[gdp_and_internet_use[\"Year\"]==2014].sort_values(\"Internet_Users_Pct\",ascending=False).Country.head(3)\n",
    "#top3_country=gdp_and_internet_use.loc[gdp_and_internet_use[\"Year\"]==2014].sort_values(\"Internet_Users_Pct\",ascending=False).head()\n",
    "print(top3_country)"
   ]
  },
  {
   "cell_type": "code",
   "execution_count": null,
   "id": "e62b7a95-036d-475d-8220-81a7c4cfa29d",
   "metadata": {},
   "outputs": [],
   "source": [
    "top3_2014_gdp=gdp_and_internet_use.loc[gdp_and_internet_use.Country.isin(top3_country)]\n"
   ]
  },
  {
   "cell_type": "code",
   "execution_count": null,
   "id": "cbfbffcf-2148-4d20-9228-14e068f447d7",
   "metadata": {},
   "outputs": [],
   "source": [
    "top_3=sns.FacetGrid(top3_2014_gdp,col=\"Country\")\n",
    "top_3.map(sns.lineplot, 'Year', 'GDP_Per_Capita')"
   ]
  },
  {
   "cell_type": "markdown",
   "id": "f72d7f89-e89e-476f-b37f-858681ff87ab",
   "metadata": {},
   "source": [
    "22. Subset `gdp_and_internet_use` to just the year 2014. Save this as a new dataframe named `gdp_and_internet_use_2014`.\n"
   ]
  },
  {
   "cell_type": "code",
   "execution_count": null,
   "id": "abc6fe01-e3d7-4de3-b5af-299d140a7e21",
   "metadata": {},
   "outputs": [],
   "source": [
    "gdp_and_internet_use_2014=gdp_and_internet_use.loc[gdp_and_internet_use[\"Year\"]==2014]\n",
    "gdp_and_internet_use_2014"
   ]
  },
  {
   "cell_type": "markdown",
   "id": "470ed042-c289-4739-ad37-849cd619f15f",
   "metadata": {},
   "source": [
    "23. Create a plot which compares Internet Users Percentage and GDP per Capita for the year 2014. What do you notice from this plot? If you see any unusual points, investigate them.\n"
   ]
  },
  {
   "cell_type": "code",
   "execution_count": null,
   "id": "0eb08caa-1644-48f8-98ac-f40c0b66edae",
   "metadata": {},
   "outputs": [],
   "source": [
    "sns.scatterplot(data=gdp_and_internet_use_2014,x=\"GDP_Per_Capita\",y=\"Internet_Users_Pct\")"
   ]
  },
  {
   "cell_type": "markdown",
   "id": "e3d4dd92-a132-4aa6-99fc-09a57e3977e3",
   "metadata": {},
   "source": [
    "24. **Stretch Question:** Use the `qcut` function from pandas (https://pandas.pydata.org/docs/reference/api/pandas.qcut.html) to divide countries in `gdp_per_capita_2014` into three groups based on their GDP per capita values. Label these groups as \"Low\", \"Medium\", and \"High\". Put these labels in a new column, named \"GDP_group\".\n"
   ]
  },
  {
   "cell_type": "code",
   "execution_count": null,
   "id": "391302e1-191f-4fdf-8399-6d2e07dcc551",
   "metadata": {},
   "outputs": [],
   "source": [
    "GDP_group=pd.qcut(gdp_and_internet_use_2014.GDP_Per_Capita, 3, labels=['Low', 'Medium', 'High'])\n",
    "print(GDP_group)"
   ]
  },
  {
   "cell_type": "markdown",
   "id": "d963b6e1-f38c-4537-a186-4e4e1d399b74",
   "metadata": {},
   "source": [
    "25. **Stretch Question:** How does the median internet users percentage compare for the three gdp groups?\n"
   ]
  },
  {
   "cell_type": "code",
   "execution_count": null,
   "id": "fe3b4d8a-1aa2-4212-98b4-3f21d266212c",
   "metadata": {},
   "outputs": [],
   "source": []
  }
 ],
 "metadata": {
  "kernelspec": {
   "display_name": "Python [conda env:base] *",
   "language": "python",
   "name": "conda-base-py"
  },
  "language_info": {
   "codemirror_mode": {
    "name": "ipython",
    "version": 3
   },
   "file_extension": ".py",
   "mimetype": "text/x-python",
   "name": "python",
   "nbconvert_exporter": "python",
   "pygments_lexer": "ipython3",
   "version": "3.13.5"
  }
 },
 "nbformat": 4,
 "nbformat_minor": 5
}
