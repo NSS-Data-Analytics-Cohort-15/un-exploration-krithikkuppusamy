{
 "cells": [
  {
   "cell_type": "code",
   "execution_count": 1,
   "id": "301ffdd0-c4d7-4b0e-842e-9260c42778b2",
   "metadata": {},
   "outputs": [],
   "source": [
    "import pandas as pd\n",
    "import numpy as np\n",
    "import matplotlib.pyplot as plt\n",
    "import seaborn as sna"
   ]
  },
  {
   "cell_type": "code",
   "execution_count": 2,
   "id": "5c924319-1c80-48e7-812e-6c799bc16e62",
   "metadata": {},
   "outputs": [
    {
     "data": {
      "text/html": [
       "<div>\n",
       "<style scoped>\n",
       "    .dataframe tbody tr th:only-of-type {\n",
       "        vertical-align: middle;\n",
       "    }\n",
       "\n",
       "    .dataframe tbody tr th {\n",
       "        vertical-align: top;\n",
       "    }\n",
       "\n",
       "    .dataframe thead th {\n",
       "        text-align: right;\n",
       "    }\n",
       "</style>\n",
       "<table border=\"1\" class=\"dataframe\">\n",
       "  <thead>\n",
       "    <tr style=\"text-align: right;\">\n",
       "      <th></th>\n",
       "      <th>Country or Area</th>\n",
       "      <th>Year</th>\n",
       "      <th>Value</th>\n",
       "      <th>Value Footnotes</th>\n",
       "    </tr>\n",
       "  </thead>\n",
       "  <tbody>\n",
       "    <tr>\n",
       "      <th>0</th>\n",
       "      <td>Afghanistan</td>\n",
       "      <td>2023</td>\n",
       "      <td>1992.424394</td>\n",
       "      <td>NaN</td>\n",
       "    </tr>\n",
       "    <tr>\n",
       "      <th>1</th>\n",
       "      <td>Afghanistan</td>\n",
       "      <td>2022</td>\n",
       "      <td>1981.710168</td>\n",
       "      <td>NaN</td>\n",
       "    </tr>\n",
       "    <tr>\n",
       "      <th>2</th>\n",
       "      <td>Afghanistan</td>\n",
       "      <td>2021</td>\n",
       "      <td>2144.166570</td>\n",
       "      <td>NaN</td>\n",
       "    </tr>\n",
       "    <tr>\n",
       "      <th>3</th>\n",
       "      <td>Afghanistan</td>\n",
       "      <td>2020</td>\n",
       "      <td>2769.685745</td>\n",
       "      <td>NaN</td>\n",
       "    </tr>\n",
       "    <tr>\n",
       "      <th>4</th>\n",
       "      <td>Afghanistan</td>\n",
       "      <td>2019</td>\n",
       "      <td>2927.245144</td>\n",
       "      <td>NaN</td>\n",
       "    </tr>\n",
       "    <tr>\n",
       "      <th>...</th>\n",
       "      <td>...</td>\n",
       "      <td>...</td>\n",
       "      <td>...</td>\n",
       "      <td>...</td>\n",
       "    </tr>\n",
       "    <tr>\n",
       "      <th>8214</th>\n",
       "      <td>Zimbabwe</td>\n",
       "      <td>1994</td>\n",
       "      <td>3965.730986</td>\n",
       "      <td>NaN</td>\n",
       "    </tr>\n",
       "    <tr>\n",
       "      <th>8215</th>\n",
       "      <td>Zimbabwe</td>\n",
       "      <td>1993</td>\n",
       "      <td>3634.750494</td>\n",
       "      <td>NaN</td>\n",
       "    </tr>\n",
       "    <tr>\n",
       "      <th>8216</th>\n",
       "      <td>Zimbabwe</td>\n",
       "      <td>1992</td>\n",
       "      <td>3649.891947</td>\n",
       "      <td>NaN</td>\n",
       "    </tr>\n",
       "    <tr>\n",
       "      <th>8217</th>\n",
       "      <td>Zimbabwe</td>\n",
       "      <td>1991</td>\n",
       "      <td>4126.405247</td>\n",
       "      <td>NaN</td>\n",
       "    </tr>\n",
       "    <tr>\n",
       "      <th>8218</th>\n",
       "      <td>Zimbabwe</td>\n",
       "      <td>1990</td>\n",
       "      <td>4013.299059</td>\n",
       "      <td>NaN</td>\n",
       "    </tr>\n",
       "  </tbody>\n",
       "</table>\n",
       "<p>8219 rows × 4 columns</p>\n",
       "</div>"
      ],
      "text/plain": [
       "     Country or Area  Year        Value  Value Footnotes\n",
       "0        Afghanistan  2023  1992.424394              NaN\n",
       "1        Afghanistan  2022  1981.710168              NaN\n",
       "2        Afghanistan  2021  2144.166570              NaN\n",
       "3        Afghanistan  2020  2769.685745              NaN\n",
       "4        Afghanistan  2019  2927.245144              NaN\n",
       "...              ...   ...          ...              ...\n",
       "8214        Zimbabwe  1994  3965.730986              NaN\n",
       "8215        Zimbabwe  1993  3634.750494              NaN\n",
       "8216        Zimbabwe  1992  3649.891947              NaN\n",
       "8217        Zimbabwe  1991  4126.405247              NaN\n",
       "8218        Zimbabwe  1990  4013.299059              NaN\n",
       "\n",
       "[8219 rows x 4 columns]"
      ]
     },
     "execution_count": 2,
     "metadata": {},
     "output_type": "execute_result"
    }
   ],
   "source": [
    "pd.read_csv('../data/gdp_percapita.csv')"
   ]
  },
  {
   "cell_type": "markdown",
   "id": "79a6e1d0-fcee-45bf-8604-74d33ce2675d",
   "metadata": {},
   "source": [
    "#4 Using the pandas read_csv() method, read the GDP dataset into your notebook as a DataFrame called gdp_df.\n",
    "#Take a look at the first few and last few rows to familiarize yourself with what is contained in this dataset.\n"
   ]
  },
  {
   "cell_type": "code",
   "execution_count": 3,
   "id": "ce7a880e-583f-4190-ba82-382716ea4762",
   "metadata": {},
   "outputs": [
    {
     "name": "stdout",
     "output_type": "stream",
     "text": [
      "     Country or Area  Year        Value  Value Footnotes\n",
      "0        Afghanistan  2023  1992.424394              NaN\n",
      "1        Afghanistan  2022  1981.710168              NaN\n",
      "2        Afghanistan  2021  2144.166570              NaN\n",
      "3        Afghanistan  2020  2769.685745              NaN\n",
      "4        Afghanistan  2019  2927.245144              NaN\n",
      "...              ...   ...          ...              ...\n",
      "8214        Zimbabwe  1994  3965.730986              NaN\n",
      "8215        Zimbabwe  1993  3634.750494              NaN\n",
      "8216        Zimbabwe  1992  3649.891947              NaN\n",
      "8217        Zimbabwe  1991  4126.405247              NaN\n",
      "8218        Zimbabwe  1990  4013.299059              NaN\n",
      "\n",
      "[8219 rows x 4 columns]\n"
     ]
    }
   ],
   "source": [
    "gdp_df=pd.read_csv('../data/gdp_percapita.csv')\n",
    "print (gdp_df)"
   ]
  },
  {
   "cell_type": "markdown",
   "id": "2339eb90-29c5-40f8-b311-1b44ee77b2d3",
   "metadata": {},
   "source": [
    "#5 How many rows and columns are in gdp_df? What are the data types of each column?\n"
   ]
  },
  {
   "cell_type": "code",
   "execution_count": 4,
   "id": "55f6a739-ad85-48cf-9c9e-ae6f51a005ed",
   "metadata": {},
   "outputs": [
    {
     "name": "stdout",
     "output_type": "stream",
     "text": [
      "<class 'pandas.core.frame.DataFrame'>\n",
      "RangeIndex: 8219 entries, 0 to 8218\n",
      "Data columns (total 4 columns):\n",
      " #   Column           Non-Null Count  Dtype  \n",
      "---  ------           --------------  -----  \n",
      " 0   Country or Area  8219 non-null   object \n",
      " 1   Year             8219 non-null   int64  \n",
      " 2   Value            8219 non-null   float64\n",
      " 3   Value Footnotes  0 non-null      float64\n",
      "dtypes: float64(2), int64(1), object(1)\n",
      "memory usage: 257.0+ KB\n"
     ]
    }
   ],
   "source": [
    "gdp_df.info()"
   ]
  },
  {
   "cell_type": "markdown",
   "id": "f903bf02-bc53-4122-8c32-3bcc6e14ff8c",
   "metadata": {},
   "source": [
    "#6 Drop the Value Footnotes column and rename the remaining three to 'Country', 'Year', and 'GDP_Per_Capita'.\n"
   ]
  },
  {
   "cell_type": "code",
   "execution_count": 5,
   "id": "136a4ba6-d85c-4e0f-9dbb-0655b213aa3c",
   "metadata": {},
   "outputs": [
    {
     "name": "stdout",
     "output_type": "stream",
     "text": [
      "<class 'pandas.core.frame.DataFrame'>\n",
      "RangeIndex: 8219 entries, 0 to 8218\n",
      "Data columns (total 3 columns):\n",
      " #   Column           Non-Null Count  Dtype  \n",
      "---  ------           --------------  -----  \n",
      " 0   Country or Area  8219 non-null   object \n",
      " 1   Year             8219 non-null   int64  \n",
      " 2   Value            8219 non-null   float64\n",
      "dtypes: float64(1), int64(1), object(1)\n",
      "memory usage: 192.8+ KB\n"
     ]
    }
   ],
   "source": [
    "gdp_df = gdp_df.drop(columns = ['Value Footnotes'])\n",
    "gdp_df.info()"
   ]
  },
  {
   "cell_type": "code",
   "execution_count": 6,
   "id": "7596952f-e947-4d07-80d2-537f1ebd8e47",
   "metadata": {},
   "outputs": [
    {
     "name": "stdout",
     "output_type": "stream",
     "text": [
      "<class 'pandas.core.frame.DataFrame'>\n",
      "RangeIndex: 8219 entries, 0 to 8218\n",
      "Data columns (total 3 columns):\n",
      " #   Column          Non-Null Count  Dtype  \n",
      "---  ------          --------------  -----  \n",
      " 0   Country         8219 non-null   object \n",
      " 1   Year            8219 non-null   int64  \n",
      " 2   GDP_Per_Capita  8219 non-null   float64\n",
      "dtypes: float64(1), int64(1), object(1)\n",
      "memory usage: 192.8+ KB\n",
      "          Country  Year  GDP_Per_Capita\n",
      "0     Afghanistan  2023     1992.424394\n",
      "1     Afghanistan  2022     1981.710168\n",
      "2     Afghanistan  2021     2144.166570\n",
      "3     Afghanistan  2020     2769.685745\n",
      "4     Afghanistan  2019     2927.245144\n",
      "...           ...   ...             ...\n",
      "8214     Zimbabwe  1994     3965.730986\n",
      "8215     Zimbabwe  1993     3634.750494\n",
      "8216     Zimbabwe  1992     3649.891947\n",
      "8217     Zimbabwe  1991     4126.405247\n",
      "8218     Zimbabwe  1990     4013.299059\n",
      "\n",
      "[8219 rows x 3 columns]\n"
     ]
    }
   ],
   "source": [
    "gdp_df = gdp_df.rename(columns={\"Country or Area\":\"Country\",\"Value\":\"GDP_Per_Capita\"})\n",
    "gdp_df.info()\n",
    "print (gdp_df)"
   ]
  },
  {
   "cell_type": "markdown",
   "id": "48fa511a-fc77-44fe-a210-e31ca65923fe",
   "metadata": {},
   "source": [
    "7 How many countries have data for all years? Which countries are missing many years of data?\n",
    "#Look at the number of observations per year. What do you notice?\n"
   ]
  },
  {
   "cell_type": "code",
   "execution_count": 8,
   "id": "2eca67a7-f25c-48af-bad0-a814ef44b543",
   "metadata": {},
   "outputs": [
    {
     "name": "stdout",
     "output_type": "stream",
     "text": [
      "1990\n",
      "2023\n"
     ]
    }
   ],
   "source": [
    "print(min(gdp_df.Year))\n",
    "print(max(gdp_df.Year))"
   ]
  },
  {
   "cell_type": "code",
   "execution_count": 9,
   "id": "6fc7bea1-2fcf-4913-b3a1-fab448db2718",
   "metadata": {},
   "outputs": [
    {
     "name": "stdout",
     "output_type": "stream",
     "text": [
      "33\n"
     ]
    }
   ],
   "source": [
    "range_of_years=(max(gdp_df.Year)-min(gdp_df.Year))\n",
    "print(range_of_years )"
   ]
  },
  {
   "cell_type": "code",
   "execution_count": 10,
   "id": "8388f485-c18e-4e7a-a486-94f463952827",
   "metadata": {},
   "outputs": [],
   "source": [
    "countries = gdp_df.groupby('Country')['Year'].count().reset_index()"
   ]
  },
  {
   "cell_type": "code",
   "execution_count": 12,
   "id": "793ec644-67e1-451e-8a05-6a80b57c7968",
   "metadata": {},
   "outputs": [
    {
     "data": {
      "text/plain": [
       "Country    Zimbabwe\n",
       "Year             34\n",
       "dtype: object"
      ]
     },
     "execution_count": 12,
     "metadata": {},
     "output_type": "execute_result"
    }
   ],
   "source": [
    "countries.max()"
   ]
  },
  {
   "cell_type": "code",
   "execution_count": 14,
   "id": "835f2abb-26da-4ad6-865d-4aff0bfe009c",
   "metadata": {},
   "outputs": [
    {
     "data": {
      "text/plain": [
       "Country    228\n",
       "Year       228\n",
       "dtype: int64"
      ]
     },
     "execution_count": 14,
     "metadata": {},
     "output_type": "execute_result"
    }
   ],
   "source": [
    "countries[countries['Year'] == 34].count()"
   ]
  },
  {
   "cell_type": "code",
   "execution_count": 15,
   "id": "6260f9bf-0544-4d02-9f3f-5106119b6e28",
   "metadata": {},
   "outputs": [
    {
     "data": {
      "text/plain": [
       "Country    19\n",
       "Year       19\n",
       "dtype: int64"
      ]
     },
     "execution_count": 15,
     "metadata": {},
     "output_type": "execute_result"
    }
   ],
   "source": [
    "countries[countries['Year']<34].count()"
   ]
  },
  {
   "cell_type": "code",
   "execution_count": 17,
   "id": "f9650a7e-1730-490d-9487-45599f57cf3d",
   "metadata": {},
   "outputs": [],
   "source": [
    "countries_missing_data=countries[countries['Year']<34]"
   ]
  },
  {
   "cell_type": "code",
   "execution_count": 18,
   "id": "e1c7139d-4752-4061-bf35-47eebce51bec",
   "metadata": {},
   "outputs": [
    {
     "data": {
      "text/plain": [
       "<bound method DataFrame.info of                        Country  Year\n",
       "0                  Afghanistan    24\n",
       "23                      Bhutan    33\n",
       "37              Cayman Islands    18\n",
       "48                    CuraÃ§ao    24\n",
       "54                    Djibouti    11\n",
       "73               Faroe Islands    16\n",
       "83                   Greenland    32\n",
       "115                     Kosovo    16\n",
       "125                    Lebanon    33\n",
       "152                 Montenegro    27\n",
       "188                 San Marino    26\n",
       "191                     Serbia    29\n",
       "195  Sint Maarten (Dutch part)    15\n",
       "200                    Somalia    33\n",
       "216       Syrian Arab Republic    33\n",
       "225                      Tonga    33\n",
       "229   Turks and Caicos Islands    13\n",
       "242             Virgin Islands    21\n",
       "243         West Bank and Gaza    30>"
      ]
     },
     "execution_count": 18,
     "metadata": {},
     "output_type": "execute_result"
    }
   ],
   "source": [
    "countries_missing_data.info"
   ]
  },
  {
   "cell_type": "markdown",
   "id": "86add2f8-86cb-45ec-a977-d28674715869",
   "metadata": {},
   "source": [
    "8. In this question, you're going to create some plots to show the distribution of GDP per capita for the year 2020.\n",
    "Go to the Python Graph Gallery (https://www.python-graph-gallery.com/) and look at the different types of plots under the Distribution section.\n",
    "Create a histogram, a density plot, a boxplot, and a violin plot. What do you notice when you look at these plots? How do the plots compare \n",
    "and what information can you get out of one type that you can't necessarily get out of the others?\n"
   ]
  }
 ],
 "metadata": {
  "kernelspec": {
   "display_name": "Python [conda env:base] *",
   "language": "python",
   "name": "conda-base-py"
  },
  "language_info": {
   "codemirror_mode": {
    "name": "ipython",
    "version": 3
   },
   "file_extension": ".py",
   "mimetype": "text/x-python",
   "name": "python",
   "nbconvert_exporter": "python",
   "pygments_lexer": "ipython3",
   "version": "3.13.5"
  }
 },
 "nbformat": 4,
 "nbformat_minor": 5
}
