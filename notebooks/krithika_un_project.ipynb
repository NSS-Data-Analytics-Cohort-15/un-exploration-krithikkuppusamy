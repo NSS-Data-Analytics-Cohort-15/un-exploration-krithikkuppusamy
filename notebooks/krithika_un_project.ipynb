{
 "cells": [
  {
   "cell_type": "code",
   "execution_count": 1,
   "id": "301ffdd0-c4d7-4b0e-842e-9260c42778b2",
   "metadata": {},
   "outputs": [],
   "source": [
    "import pandas as pd\n",
    "import numpy as np\n",
    "import matplotlib.pyplot as plt\n",
    "import seaborn as sns"
   ]
  },
  {
   "cell_type": "code",
   "execution_count": 2,
   "id": "5c924319-1c80-48e7-812e-6c799bc16e62",
   "metadata": {},
   "outputs": [
    {
     "data": {
      "text/html": [
       "<div>\n",
       "<style scoped>\n",
       "    .dataframe tbody tr th:only-of-type {\n",
       "        vertical-align: middle;\n",
       "    }\n",
       "\n",
       "    .dataframe tbody tr th {\n",
       "        vertical-align: top;\n",
       "    }\n",
       "\n",
       "    .dataframe thead th {\n",
       "        text-align: right;\n",
       "    }\n",
       "</style>\n",
       "<table border=\"1\" class=\"dataframe\">\n",
       "  <thead>\n",
       "    <tr style=\"text-align: right;\">\n",
       "      <th></th>\n",
       "      <th>Country or Area</th>\n",
       "      <th>Year</th>\n",
       "      <th>Value</th>\n",
       "      <th>Value Footnotes</th>\n",
       "    </tr>\n",
       "  </thead>\n",
       "  <tbody>\n",
       "    <tr>\n",
       "      <th>0</th>\n",
       "      <td>Afghanistan</td>\n",
       "      <td>2023</td>\n",
       "      <td>1992.424394</td>\n",
       "      <td>NaN</td>\n",
       "    </tr>\n",
       "    <tr>\n",
       "      <th>1</th>\n",
       "      <td>Afghanistan</td>\n",
       "      <td>2022</td>\n",
       "      <td>1981.710168</td>\n",
       "      <td>NaN</td>\n",
       "    </tr>\n",
       "    <tr>\n",
       "      <th>2</th>\n",
       "      <td>Afghanistan</td>\n",
       "      <td>2021</td>\n",
       "      <td>2144.166570</td>\n",
       "      <td>NaN</td>\n",
       "    </tr>\n",
       "    <tr>\n",
       "      <th>3</th>\n",
       "      <td>Afghanistan</td>\n",
       "      <td>2020</td>\n",
       "      <td>2769.685745</td>\n",
       "      <td>NaN</td>\n",
       "    </tr>\n",
       "    <tr>\n",
       "      <th>4</th>\n",
       "      <td>Afghanistan</td>\n",
       "      <td>2019</td>\n",
       "      <td>2927.245144</td>\n",
       "      <td>NaN</td>\n",
       "    </tr>\n",
       "    <tr>\n",
       "      <th>...</th>\n",
       "      <td>...</td>\n",
       "      <td>...</td>\n",
       "      <td>...</td>\n",
       "      <td>...</td>\n",
       "    </tr>\n",
       "    <tr>\n",
       "      <th>8214</th>\n",
       "      <td>Zimbabwe</td>\n",
       "      <td>1994</td>\n",
       "      <td>3965.730986</td>\n",
       "      <td>NaN</td>\n",
       "    </tr>\n",
       "    <tr>\n",
       "      <th>8215</th>\n",
       "      <td>Zimbabwe</td>\n",
       "      <td>1993</td>\n",
       "      <td>3634.750494</td>\n",
       "      <td>NaN</td>\n",
       "    </tr>\n",
       "    <tr>\n",
       "      <th>8216</th>\n",
       "      <td>Zimbabwe</td>\n",
       "      <td>1992</td>\n",
       "      <td>3649.891947</td>\n",
       "      <td>NaN</td>\n",
       "    </tr>\n",
       "    <tr>\n",
       "      <th>8217</th>\n",
       "      <td>Zimbabwe</td>\n",
       "      <td>1991</td>\n",
       "      <td>4126.405247</td>\n",
       "      <td>NaN</td>\n",
       "    </tr>\n",
       "    <tr>\n",
       "      <th>8218</th>\n",
       "      <td>Zimbabwe</td>\n",
       "      <td>1990</td>\n",
       "      <td>4013.299059</td>\n",
       "      <td>NaN</td>\n",
       "    </tr>\n",
       "  </tbody>\n",
       "</table>\n",
       "<p>8219 rows × 4 columns</p>\n",
       "</div>"
      ],
      "text/plain": [
       "     Country or Area  Year        Value  Value Footnotes\n",
       "0        Afghanistan  2023  1992.424394              NaN\n",
       "1        Afghanistan  2022  1981.710168              NaN\n",
       "2        Afghanistan  2021  2144.166570              NaN\n",
       "3        Afghanistan  2020  2769.685745              NaN\n",
       "4        Afghanistan  2019  2927.245144              NaN\n",
       "...              ...   ...          ...              ...\n",
       "8214        Zimbabwe  1994  3965.730986              NaN\n",
       "8215        Zimbabwe  1993  3634.750494              NaN\n",
       "8216        Zimbabwe  1992  3649.891947              NaN\n",
       "8217        Zimbabwe  1991  4126.405247              NaN\n",
       "8218        Zimbabwe  1990  4013.299059              NaN\n",
       "\n",
       "[8219 rows x 4 columns]"
      ]
     },
     "execution_count": 2,
     "metadata": {},
     "output_type": "execute_result"
    }
   ],
   "source": [
    "pd.read_csv('../data/gdp_percapita.csv')"
   ]
  },
  {
   "cell_type": "markdown",
   "id": "79a6e1d0-fcee-45bf-8604-74d33ce2675d",
   "metadata": {},
   "source": [
    "**4.Using the pandas `read_csv()` method, read the GDP dataset into your notebook as a DataFrame called `gdp_df`. Take a look at the first few and last few rows to familiarize yourself with what is contained in this dataset.**\n"
   ]
  },
  {
   "cell_type": "code",
   "execution_count": 3,
   "id": "ce7a880e-583f-4190-ba82-382716ea4762",
   "metadata": {},
   "outputs": [
    {
     "name": "stdout",
     "output_type": "stream",
     "text": [
      "     Country or Area  Year        Value  Value Footnotes\n",
      "0        Afghanistan  2023  1992.424394              NaN\n",
      "1        Afghanistan  2022  1981.710168              NaN\n",
      "2        Afghanistan  2021  2144.166570              NaN\n",
      "3        Afghanistan  2020  2769.685745              NaN\n",
      "4        Afghanistan  2019  2927.245144              NaN\n",
      "...              ...   ...          ...              ...\n",
      "8214        Zimbabwe  1994  3965.730986              NaN\n",
      "8215        Zimbabwe  1993  3634.750494              NaN\n",
      "8216        Zimbabwe  1992  3649.891947              NaN\n",
      "8217        Zimbabwe  1991  4126.405247              NaN\n",
      "8218        Zimbabwe  1990  4013.299059              NaN\n",
      "\n",
      "[8219 rows x 4 columns]\n"
     ]
    }
   ],
   "source": [
    "gdp_df=pd.read_csv('../data/gdp_percapita.csv')\n",
    "print (gdp_df)"
   ]
  },
  {
   "cell_type": "markdown",
   "id": "2339eb90-29c5-40f8-b311-1b44ee77b2d3",
   "metadata": {},
   "source": [
    "**5 How many rows and columns are in gdp_df? What are the data types of each column?**\n"
   ]
  },
  {
   "cell_type": "code",
   "execution_count": 4,
   "id": "55f6a739-ad85-48cf-9c9e-ae6f51a005ed",
   "metadata": {},
   "outputs": [
    {
     "name": "stdout",
     "output_type": "stream",
     "text": [
      "<class 'pandas.core.frame.DataFrame'>\n",
      "RangeIndex: 8219 entries, 0 to 8218\n",
      "Data columns (total 4 columns):\n",
      " #   Column           Non-Null Count  Dtype  \n",
      "---  ------           --------------  -----  \n",
      " 0   Country or Area  8219 non-null   object \n",
      " 1   Year             8219 non-null   int64  \n",
      " 2   Value            8219 non-null   float64\n",
      " 3   Value Footnotes  0 non-null      float64\n",
      "dtypes: float64(2), int64(1), object(1)\n",
      "memory usage: 257.0+ KB\n"
     ]
    }
   ],
   "source": [
    "gdp_df.info()"
   ]
  },
  {
   "cell_type": "markdown",
   "id": "f903bf02-bc53-4122-8c32-3bcc6e14ff8c",
   "metadata": {},
   "source": [
    "**6 Drop the Value Footnotes column and rename the remaining three to 'Country', 'Year', and 'GDP_Per_Capita'.**\n"
   ]
  },
  {
   "cell_type": "code",
   "execution_count": 5,
   "id": "136a4ba6-d85c-4e0f-9dbb-0655b213aa3c",
   "metadata": {},
   "outputs": [
    {
     "data": {
      "text/html": [
       "<div>\n",
       "<style scoped>\n",
       "    .dataframe tbody tr th:only-of-type {\n",
       "        vertical-align: middle;\n",
       "    }\n",
       "\n",
       "    .dataframe tbody tr th {\n",
       "        vertical-align: top;\n",
       "    }\n",
       "\n",
       "    .dataframe thead th {\n",
       "        text-align: right;\n",
       "    }\n",
       "</style>\n",
       "<table border=\"1\" class=\"dataframe\">\n",
       "  <thead>\n",
       "    <tr style=\"text-align: right;\">\n",
       "      <th></th>\n",
       "      <th>Country or Area</th>\n",
       "      <th>Year</th>\n",
       "      <th>Value</th>\n",
       "    </tr>\n",
       "  </thead>\n",
       "  <tbody>\n",
       "    <tr>\n",
       "      <th>0</th>\n",
       "      <td>Afghanistan</td>\n",
       "      <td>2023</td>\n",
       "      <td>1992.424394</td>\n",
       "    </tr>\n",
       "    <tr>\n",
       "      <th>1</th>\n",
       "      <td>Afghanistan</td>\n",
       "      <td>2022</td>\n",
       "      <td>1981.710168</td>\n",
       "    </tr>\n",
       "    <tr>\n",
       "      <th>2</th>\n",
       "      <td>Afghanistan</td>\n",
       "      <td>2021</td>\n",
       "      <td>2144.166570</td>\n",
       "    </tr>\n",
       "    <tr>\n",
       "      <th>3</th>\n",
       "      <td>Afghanistan</td>\n",
       "      <td>2020</td>\n",
       "      <td>2769.685745</td>\n",
       "    </tr>\n",
       "    <tr>\n",
       "      <th>4</th>\n",
       "      <td>Afghanistan</td>\n",
       "      <td>2019</td>\n",
       "      <td>2927.245144</td>\n",
       "    </tr>\n",
       "    <tr>\n",
       "      <th>...</th>\n",
       "      <td>...</td>\n",
       "      <td>...</td>\n",
       "      <td>...</td>\n",
       "    </tr>\n",
       "    <tr>\n",
       "      <th>8214</th>\n",
       "      <td>Zimbabwe</td>\n",
       "      <td>1994</td>\n",
       "      <td>3965.730986</td>\n",
       "    </tr>\n",
       "    <tr>\n",
       "      <th>8215</th>\n",
       "      <td>Zimbabwe</td>\n",
       "      <td>1993</td>\n",
       "      <td>3634.750494</td>\n",
       "    </tr>\n",
       "    <tr>\n",
       "      <th>8216</th>\n",
       "      <td>Zimbabwe</td>\n",
       "      <td>1992</td>\n",
       "      <td>3649.891947</td>\n",
       "    </tr>\n",
       "    <tr>\n",
       "      <th>8217</th>\n",
       "      <td>Zimbabwe</td>\n",
       "      <td>1991</td>\n",
       "      <td>4126.405247</td>\n",
       "    </tr>\n",
       "    <tr>\n",
       "      <th>8218</th>\n",
       "      <td>Zimbabwe</td>\n",
       "      <td>1990</td>\n",
       "      <td>4013.299059</td>\n",
       "    </tr>\n",
       "  </tbody>\n",
       "</table>\n",
       "<p>8219 rows × 3 columns</p>\n",
       "</div>"
      ],
      "text/plain": [
       "     Country or Area  Year        Value\n",
       "0        Afghanistan  2023  1992.424394\n",
       "1        Afghanistan  2022  1981.710168\n",
       "2        Afghanistan  2021  2144.166570\n",
       "3        Afghanistan  2020  2769.685745\n",
       "4        Afghanistan  2019  2927.245144\n",
       "...              ...   ...          ...\n",
       "8214        Zimbabwe  1994  3965.730986\n",
       "8215        Zimbabwe  1993  3634.750494\n",
       "8216        Zimbabwe  1992  3649.891947\n",
       "8217        Zimbabwe  1991  4126.405247\n",
       "8218        Zimbabwe  1990  4013.299059\n",
       "\n",
       "[8219 rows x 3 columns]"
      ]
     },
     "execution_count": 5,
     "metadata": {},
     "output_type": "execute_result"
    }
   ],
   "source": [
    "gdp_df = gdp_df.drop(columns = ['Value Footnotes'])\n",
    "gdp_df"
   ]
  },
  {
   "cell_type": "code",
   "execution_count": 6,
   "id": "7596952f-e947-4d07-80d2-537f1ebd8e47",
   "metadata": {},
   "outputs": [
    {
     "name": "stdout",
     "output_type": "stream",
     "text": [
      "<class 'pandas.core.frame.DataFrame'>\n",
      "RangeIndex: 8219 entries, 0 to 8218\n",
      "Data columns (total 3 columns):\n",
      " #   Column          Non-Null Count  Dtype  \n",
      "---  ------          --------------  -----  \n",
      " 0   Country         8219 non-null   object \n",
      " 1   Year            8219 non-null   int64  \n",
      " 2   GDP_Per_Capita  8219 non-null   float64\n",
      "dtypes: float64(1), int64(1), object(1)\n",
      "memory usage: 192.8+ KB\n"
     ]
    }
   ],
   "source": [
    "gdp_df = gdp_df.rename(columns={\"Country or Area\":\"Country\",\"Value\":\"GDP_Per_Capita\"})\n",
    "gdp_df.info()\n"
   ]
  },
  {
   "cell_type": "markdown",
   "id": "48fa511a-fc77-44fe-a210-e31ca65923fe",
   "metadata": {},
   "source": [
    "** How many countries have data for all years? Which countries are missing many years of data?\n",
    "Look at the number of observations per year. What do you notice?**\n"
   ]
  },
  {
   "cell_type": "code",
   "execution_count": 7,
   "id": "2eca67a7-f25c-48af-bad0-a814ef44b543",
   "metadata": {},
   "outputs": [
    {
     "name": "stdout",
     "output_type": "stream",
     "text": [
      "1990\n",
      "2023\n"
     ]
    }
   ],
   "source": [
    "print(min(gdp_df.Year))\n",
    "print(max(gdp_df.Year))"
   ]
  },
  {
   "cell_type": "code",
   "execution_count": 8,
   "id": "8388f485-c18e-4e7a-a486-94f463952827",
   "metadata": {},
   "outputs": [],
   "source": [
    "countries = gdp_df.groupby('Country')['Year'].count().reset_index()"
   ]
  },
  {
   "cell_type": "code",
   "execution_count": 9,
   "id": "793ec644-67e1-451e-8a05-6a80b57c7968",
   "metadata": {},
   "outputs": [
    {
     "data": {
      "text/plain": [
       "Country    Zimbabwe\n",
       "Year             34\n",
       "dtype: object"
      ]
     },
     "execution_count": 9,
     "metadata": {},
     "output_type": "execute_result"
    }
   ],
   "source": [
    "countries.max()"
   ]
  },
  {
   "cell_type": "code",
   "execution_count": 10,
   "id": "835f2abb-26da-4ad6-865d-4aff0bfe009c",
   "metadata": {},
   "outputs": [
    {
     "data": {
      "text/plain": [
       "Country    228\n",
       "Year       228\n",
       "dtype: int64"
      ]
     },
     "execution_count": 10,
     "metadata": {},
     "output_type": "execute_result"
    }
   ],
   "source": [
    "countries[countries['Year'] == 34].count()"
   ]
  },
  {
   "cell_type": "code",
   "execution_count": 11,
   "id": "6260f9bf-0544-4d02-9f3f-5106119b6e28",
   "metadata": {},
   "outputs": [
    {
     "data": {
      "text/plain": [
       "Country    19\n",
       "Year       19\n",
       "dtype: int64"
      ]
     },
     "execution_count": 11,
     "metadata": {},
     "output_type": "execute_result"
    }
   ],
   "source": [
    "countries[countries['Year']<34].count()"
   ]
  },
  {
   "cell_type": "code",
   "execution_count": 12,
   "id": "f9650a7e-1730-490d-9487-45599f57cf3d",
   "metadata": {},
   "outputs": [],
   "source": [
    "countries_missing_data=countries[countries['Year']<34]"
   ]
  },
  {
   "cell_type": "code",
   "execution_count": 13,
   "id": "e1c7139d-4752-4061-bf35-47eebce51bec",
   "metadata": {},
   "outputs": [
    {
     "data": {
      "text/html": [
       "<div>\n",
       "<style scoped>\n",
       "    .dataframe tbody tr th:only-of-type {\n",
       "        vertical-align: middle;\n",
       "    }\n",
       "\n",
       "    .dataframe tbody tr th {\n",
       "        vertical-align: top;\n",
       "    }\n",
       "\n",
       "    .dataframe thead th {\n",
       "        text-align: right;\n",
       "    }\n",
       "</style>\n",
       "<table border=\"1\" class=\"dataframe\">\n",
       "  <thead>\n",
       "    <tr style=\"text-align: right;\">\n",
       "      <th></th>\n",
       "      <th>Country</th>\n",
       "      <th>Year</th>\n",
       "    </tr>\n",
       "  </thead>\n",
       "  <tbody>\n",
       "    <tr>\n",
       "      <th>0</th>\n",
       "      <td>Afghanistan</td>\n",
       "      <td>24</td>\n",
       "    </tr>\n",
       "    <tr>\n",
       "      <th>23</th>\n",
       "      <td>Bhutan</td>\n",
       "      <td>33</td>\n",
       "    </tr>\n",
       "    <tr>\n",
       "      <th>37</th>\n",
       "      <td>Cayman Islands</td>\n",
       "      <td>18</td>\n",
       "    </tr>\n",
       "    <tr>\n",
       "      <th>48</th>\n",
       "      <td>CuraÃ§ao</td>\n",
       "      <td>24</td>\n",
       "    </tr>\n",
       "    <tr>\n",
       "      <th>54</th>\n",
       "      <td>Djibouti</td>\n",
       "      <td>11</td>\n",
       "    </tr>\n",
       "    <tr>\n",
       "      <th>73</th>\n",
       "      <td>Faroe Islands</td>\n",
       "      <td>16</td>\n",
       "    </tr>\n",
       "    <tr>\n",
       "      <th>83</th>\n",
       "      <td>Greenland</td>\n",
       "      <td>32</td>\n",
       "    </tr>\n",
       "    <tr>\n",
       "      <th>115</th>\n",
       "      <td>Kosovo</td>\n",
       "      <td>16</td>\n",
       "    </tr>\n",
       "    <tr>\n",
       "      <th>125</th>\n",
       "      <td>Lebanon</td>\n",
       "      <td>33</td>\n",
       "    </tr>\n",
       "    <tr>\n",
       "      <th>152</th>\n",
       "      <td>Montenegro</td>\n",
       "      <td>27</td>\n",
       "    </tr>\n",
       "    <tr>\n",
       "      <th>188</th>\n",
       "      <td>San Marino</td>\n",
       "      <td>26</td>\n",
       "    </tr>\n",
       "    <tr>\n",
       "      <th>191</th>\n",
       "      <td>Serbia</td>\n",
       "      <td>29</td>\n",
       "    </tr>\n",
       "    <tr>\n",
       "      <th>195</th>\n",
       "      <td>Sint Maarten (Dutch part)</td>\n",
       "      <td>15</td>\n",
       "    </tr>\n",
       "    <tr>\n",
       "      <th>200</th>\n",
       "      <td>Somalia</td>\n",
       "      <td>33</td>\n",
       "    </tr>\n",
       "    <tr>\n",
       "      <th>216</th>\n",
       "      <td>Syrian Arab Republic</td>\n",
       "      <td>33</td>\n",
       "    </tr>\n",
       "    <tr>\n",
       "      <th>225</th>\n",
       "      <td>Tonga</td>\n",
       "      <td>33</td>\n",
       "    </tr>\n",
       "    <tr>\n",
       "      <th>229</th>\n",
       "      <td>Turks and Caicos Islands</td>\n",
       "      <td>13</td>\n",
       "    </tr>\n",
       "    <tr>\n",
       "      <th>242</th>\n",
       "      <td>Virgin Islands</td>\n",
       "      <td>21</td>\n",
       "    </tr>\n",
       "    <tr>\n",
       "      <th>243</th>\n",
       "      <td>West Bank and Gaza</td>\n",
       "      <td>30</td>\n",
       "    </tr>\n",
       "  </tbody>\n",
       "</table>\n",
       "</div>"
      ],
      "text/plain": [
       "                       Country  Year\n",
       "0                  Afghanistan    24\n",
       "23                      Bhutan    33\n",
       "37              Cayman Islands    18\n",
       "48                    CuraÃ§ao    24\n",
       "54                    Djibouti    11\n",
       "73               Faroe Islands    16\n",
       "83                   Greenland    32\n",
       "115                     Kosovo    16\n",
       "125                    Lebanon    33\n",
       "152                 Montenegro    27\n",
       "188                 San Marino    26\n",
       "191                     Serbia    29\n",
       "195  Sint Maarten (Dutch part)    15\n",
       "200                    Somalia    33\n",
       "216       Syrian Arab Republic    33\n",
       "225                      Tonga    33\n",
       "229   Turks and Caicos Islands    13\n",
       "242             Virgin Islands    21\n",
       "243         West Bank and Gaza    30"
      ]
     },
     "execution_count": 13,
     "metadata": {},
     "output_type": "execute_result"
    }
   ],
   "source": [
    "countries_missing_data"
   ]
  },
  {
   "cell_type": "code",
   "execution_count": 14,
   "id": "035a6f63-3fd7-49ef-a8be-8ba827814e97",
   "metadata": {},
   "outputs": [
    {
     "data": {
      "text/plain": [
       "Year\n",
       "1990    233\n",
       "1991    234\n",
       "1992    234\n",
       "1993    234\n",
       "1994    235\n",
       "1995    236\n",
       "1996    236\n",
       "1997    238\n",
       "1998    238\n",
       "1999    238\n",
       "2000    240\n",
       "2001    240\n",
       "2002    241\n",
       "2003    241\n",
       "2004    241\n",
       "2005    241\n",
       "2006    242\n",
       "2007    242\n",
       "2008    244\n",
       "2009    245\n",
       "2010    245\n",
       "2011    246\n",
       "2012    246\n",
       "2013    247\n",
       "2014    247\n",
       "2015    247\n",
       "2016    247\n",
       "2017    247\n",
       "2018    247\n",
       "2019    247\n",
       "2020    247\n",
       "2021    247\n",
       "2022    246\n",
       "2023    240\n",
       "Name: Country, dtype: int64"
      ]
     },
     "execution_count": 14,
     "metadata": {},
     "output_type": "execute_result"
    }
   ],
   "source": [
    "gdp_df.groupby(\"Year\")[\"Country\"].count()"
   ]
  },
  {
   "cell_type": "markdown",
   "id": "86add2f8-86cb-45ec-a977-d28674715869",
   "metadata": {},
   "source": [
    "**8. In this question, you're going to create some plots to show the distribution of GDP per capita for the year 2020.\n",
    "Go to the Python Graph Gallery (https://www.python-graph-gallery.com/) and look at the different types of plots under the Distribution section.\n",
    "Create a histogram, a density plot, a boxplot, and a violin plot. What do you notice when you look at these plots? How do the plots compare \n",
    "and what information can you get out of one type that you can't necessarily get out of the others?**\n"
   ]
  },
  {
   "cell_type": "code",
   "execution_count": 25,
   "id": "f035dfe0-db7b-4b1d-88fc-30d78f07f00d",
   "metadata": {},
   "outputs": [
    {
     "data": {
      "text/plain": [
       "3        2769.685745\n",
       "27       3861.111238\n",
       "61       4622.731427\n",
       "95      14650.395929\n",
       "129     14194.155748\n",
       "            ...     \n",
       "8068    45055.782930\n",
       "8090     5423.682547\n",
       "8120    18600.986362\n",
       "8154     3391.595412\n",
       "8188     2987.269823\n",
       "Name: GDP_Per_Capita, Length: 247, dtype: float64"
      ]
     },
     "execution_count": 25,
     "metadata": {},
     "output_type": "execute_result"
    }
   ],
   "source": [
    "#without loc\n",
    "\n",
    "gdp_2020=gdp_df[gdp_df[\"Year\"] == 2020][\"GDP_Per_Capita\"]\n",
    "gdp_2020"
   ]
  },
  {
   "cell_type": "code",
   "execution_count": 23,
   "id": "c9e58e52-d3d8-480a-b04f-61c222b7b027",
   "metadata": {},
   "outputs": [
    {
     "data": {
      "text/html": [
       "<div>\n",
       "<style scoped>\n",
       "    .dataframe tbody tr th:only-of-type {\n",
       "        vertical-align: middle;\n",
       "    }\n",
       "\n",
       "    .dataframe tbody tr th {\n",
       "        vertical-align: top;\n",
       "    }\n",
       "\n",
       "    .dataframe thead th {\n",
       "        text-align: right;\n",
       "    }\n",
       "</style>\n",
       "<table border=\"1\" class=\"dataframe\">\n",
       "  <thead>\n",
       "    <tr style=\"text-align: right;\">\n",
       "      <th></th>\n",
       "      <th>GDP_Per_Capita</th>\n",
       "    </tr>\n",
       "  </thead>\n",
       "  <tbody>\n",
       "    <tr>\n",
       "      <th>3</th>\n",
       "      <td>2769.685745</td>\n",
       "    </tr>\n",
       "    <tr>\n",
       "      <th>27</th>\n",
       "      <td>3861.111238</td>\n",
       "    </tr>\n",
       "    <tr>\n",
       "      <th>61</th>\n",
       "      <td>4622.731427</td>\n",
       "    </tr>\n",
       "    <tr>\n",
       "      <th>95</th>\n",
       "      <td>14650.395929</td>\n",
       "    </tr>\n",
       "    <tr>\n",
       "      <th>129</th>\n",
       "      <td>14194.155748</td>\n",
       "    </tr>\n",
       "    <tr>\n",
       "      <th>...</th>\n",
       "      <td>...</td>\n",
       "    </tr>\n",
       "    <tr>\n",
       "      <th>8068</th>\n",
       "      <td>45055.782930</td>\n",
       "    </tr>\n",
       "    <tr>\n",
       "      <th>8090</th>\n",
       "      <td>5423.682547</td>\n",
       "    </tr>\n",
       "    <tr>\n",
       "      <th>8120</th>\n",
       "      <td>18600.986362</td>\n",
       "    </tr>\n",
       "    <tr>\n",
       "      <th>8154</th>\n",
       "      <td>3391.595412</td>\n",
       "    </tr>\n",
       "    <tr>\n",
       "      <th>8188</th>\n",
       "      <td>2987.269823</td>\n",
       "    </tr>\n",
       "  </tbody>\n",
       "</table>\n",
       "<p>247 rows × 1 columns</p>\n",
       "</div>"
      ],
      "text/plain": [
       "      GDP_Per_Capita\n",
       "3        2769.685745\n",
       "27       3861.111238\n",
       "61       4622.731427\n",
       "95      14650.395929\n",
       "129     14194.155748\n",
       "...              ...\n",
       "8068    45055.782930\n",
       "8090     5423.682547\n",
       "8120    18600.986362\n",
       "8154     3391.595412\n",
       "8188     2987.269823\n",
       "\n",
       "[247 rows x 1 columns]"
      ]
     },
     "execution_count": 23,
     "metadata": {},
     "output_type": "execute_result"
    }
   ],
   "source": [
    "#with loc\n",
    "\n",
    "gdp_2020=gdp_df.loc[gdp_df[\"Year\"]==2020,[\"GDP_Per_Capita\"]]\n",
    "gdp_2020#.reset_index(drop=True)"
   ]
  },
  {
   "cell_type": "code",
   "execution_count": null,
   "id": "2dc10213-f9f2-4265-a5d9-6c5336f780f3",
   "metadata": {},
   "outputs": [],
   "source": [
    "plt.hist(gdp_2020)"
   ]
  },
  {
   "cell_type": "code",
   "execution_count": null,
   "id": "4b0a4408-f412-46f9-9fa7-8c33709a361a",
   "metadata": {},
   "outputs": [],
   "source": [
    "sns.kdeplot(gdp_2020)"
   ]
  },
  {
   "cell_type": "code",
   "execution_count": null,
   "id": "22327e15-9678-4721-be87-4db126bb4502",
   "metadata": {},
   "outputs": [],
   "source": [
    "plt.boxplot(gdp_2020)"
   ]
  },
  {
   "cell_type": "code",
   "execution_count": null,
   "id": "ae531b73-d166-42f6-9af1-b6746c49b8ab",
   "metadata": {},
   "outputs": [],
   "source": [
    "sns.violinplot(gdp_2020)"
   ]
  },
  {
   "cell_type": "markdown",
   "id": "89f5482f-0dda-49dc-82fd-e5b45730d466",
   "metadata": {},
   "source": [
    "**9. What was the median GDP per capita value in 2020?**\n"
   ]
  },
  {
   "cell_type": "code",
   "execution_count": null,
   "id": "7e18d83d-fded-40ad-9de4-b26244d6d9c8",
   "metadata": {},
   "outputs": [],
   "source": [
    "median_gdp_2020=gdp_df.loc[gdp_df[\"Year\"]==2020,[\"GDP_Per_Capita\"]]\n",
    "print(median_gdp_2020.median())\n",
    "#gdp_2020['GDP_Per_Capita'].median()\n",
    "#gdp_2020.GDP_Per_Capita.median()"
   ]
  },
  {
   "cell_type": "markdown",
   "id": "e7fafcda-a402-4b4e-b0fb-d17282e4ca73",
   "metadata": {},
   "source": [
    "**10. For this question, you're going to create some visualizations to compare GDP per capita values for the years 1990, 2000, 2010, and 2020. Start by subsetting your data to just these 4 years into a new DataFrame named gdp_decades. Using this, create the following 4 plots:\n",
    "\t* A boxplot\n",
    "\t* A barplot (check out the Barplot with Seaborn section: https://www.python-graph-gallery.com/barplot/#Seaborn)\n",
    "\t* A scatterplot\n",
    "\t* A scatterplot with a trend line overlaid (see this regplot example: https://www.python-graph-gallery.com/42-custom-linear-regression-fit-seaborn)  \n",
    "Comment on what you observe has happened to GDP values over time and the relative strengths and weaknesses of each type of plot.**\n"
   ]
  },
  {
   "cell_type": "code",
   "execution_count": null,
   "id": "9ac9bad6-7833-4c5c-a213-50176aee9766",
   "metadata": {},
   "outputs": [],
   "source": [
    "gdp_decades = gdp_df.loc[gdp_df.Year.isin([1990, 2000, 2010, 2020])]\n",
    "print(gdp_decades)"
   ]
  },
  {
   "cell_type": "markdown",
   "id": "04651223-af3a-47d0-90f2-881841e823b1",
   "metadata": {},
   "source": [
    "Box plot for the years 1990,2000,2010,2020"
   ]
  },
  {
   "cell_type": "code",
   "execution_count": null,
   "id": "db840dae-20ef-4166-906b-f4766f08750a",
   "metadata": {},
   "outputs": [],
   "source": [
    "sns.boxplot(data=gdp_decades, x = 'Year', y= 'GDP_Per_Capita')"
   ]
  },
  {
   "cell_type": "markdown",
   "id": "eba0163b-957b-4540-a557-2978388618c9",
   "metadata": {},
   "source": [
    "Barplot for the years"
   ]
  },
  {
   "cell_type": "code",
   "execution_count": null,
   "id": "98cbc973-b2d0-4315-9e0e-e7505d58c907",
   "metadata": {},
   "outputs": [],
   "source": [
    "sns.barplot(x='Year', y='GDP_Per_Capita', data=gdp_decades)"
   ]
  },
  {
   "cell_type": "code",
   "execution_count": null,
   "id": "a062ed74-6b41-4dea-a271-819800b6ee25",
   "metadata": {},
   "outputs": [],
   "source": [
    "sns.scatterplot(x='Year', y='GDP_Per_Capita', data=gdp_decades)"
   ]
  },
  {
   "cell_type": "code",
   "execution_count": null,
   "id": "93f503db-d0b4-431a-8f56-90d53380039c",
   "metadata": {},
   "outputs": [],
   "source": [
    "sns.regplot(x='Year', y='GDP_Per_Capita', data=gdp_decades, scatter_kws={'alpha':0.4})"
   ]
  },
  {
   "cell_type": "markdown",
   "id": "89f0bf41-77df-4da9-84d9-e5e4b9a57e04",
   "metadata": {},
   "source": [
    "**11. Which country was the first to have a GDP per capita greater than $100,000?**\n"
   ]
  },
  {
   "cell_type": "markdown",
   "id": "4a01a6b9-7126-4549-b915-0331359d2a79",
   "metadata": {},
   "source": [
    "#11. # 1. Filtering for GDP per capita > $100,000\n",
    "high_gdp_countries = gdp_df[gdp_df['GDP_Per_Capita'] > 100000]\n",
    "\n",
    "# 2. Sorting by 'Year' to find the earliest occurrence\n",
    "first_high_gdp_country_row = high_gdp_countries.sort_values(by='Year').iloc[0]\n",
    "\n",
    "# 3. Extracting the country name\n",
    "first_country = first_high_gdp_country_row['Country']\n",
    "first_year = first_high_gdp_country_row['Year']\n",
    "first_gdp = first_high_gdp_country_row['GDP_Per_Capita']"
   ]
  },
  {
   "cell_type": "code",
   "execution_count": null,
   "id": "e086b4ea-fceb-4d67-93cb-63bfe177f0b3",
   "metadata": {},
   "outputs": [],
   "source": [
    "gdp_over_100k=gdp_df.loc[gdp_df[\"GDP_Per_Capita\"]>100000]\n",
    "gdp_over_100k.loc[gdp_over_100k.Year==gdp_over_100k.Year.min()]"
   ]
  },
  {
   "cell_type": "markdown",
   "id": "ca90bd2c-e15c-4733-ac76-8ff7ce5c8b1f",
   "metadata": {},
   "source": [
    "**12. Which country had the highest GDP per capita in 2020? Create a plot showing how this country's GDP per capita has changed over the timespan of the dataset.**\n"
   ]
  },
  {
   "cell_type": "code",
   "execution_count": 26,
   "id": "230ca081-20ce-47e0-8d98-5a27ece906dd",
   "metadata": {},
   "outputs": [
    {
     "name": "stdout",
     "output_type": "stream",
     "text": [
      "                       Country  Year  GDP_Per_Capita\n",
      "4426                Luxembourg  2020   128256.560341\n",
      "6514                 Singapore  2020   115304.149459\n",
      "6119                     Qatar  2020   103061.913414\n",
      "3493                   Ireland  2020   102989.787335\n",
      "741                    Bermuda  2020    87894.401174\n",
      "...                        ...   ...             ...\n",
      "5133                Mozambique  2020     1466.124765\n",
      "6699                   Somalia  2020     1396.053436\n",
      "1734           Dem. Rep. Congo  2020     1277.632863\n",
      "1302  Central African Republic  2020     1136.570530\n",
      "1046                   Burundi  2020      833.920257\n",
      "\n",
      "[247 rows x 3 columns]\n"
     ]
    }
   ],
   "source": [
    "#filtering gdp per capita and sorting\n",
    "high_gdp_country=gdp_df.loc[gdp_df[\"Year\"]==2020]\n",
    "#print(high_gdp_country)\n",
    "top_gdp=high_gdp_country.sort_values(\"GDP_Per_Capita\",ascending=False)\n",
    "print(top_gdp)\n",
    "#high_gdp_country.loc[high_gdp_country.Country==high_gdp_country.GDP_Per_Capita.max()]"
   ]
  },
  {
   "cell_type": "code",
   "execution_count": 27,
   "id": "ec5f7c78-4df0-4b67-97ed-950fd4b68d23",
   "metadata": {},
   "outputs": [
    {
     "data": {
      "text/plain": [
       "[<matplotlib.lines.Line2D at 0x227b151b750>]"
      ]
     },
     "execution_count": 27,
     "metadata": {},
     "output_type": "execute_result"
    },
    {
     "data": {
      "image/png": "[encoded data removed]",
      "text/plain": [
       "<Figure size 640x480 with 1 Axes>"
      ]
     },
     "metadata": {},
     "output_type": "display_data"
    }
   ],
   "source": [
    "#plt.plot(gdp_df[\"Country\"]==\"Luxembourg\",gdp_df[\"Year\"])\n",
    "gdp_lux=gdp_df.loc[gdp_df[\"Country\"] == \"Luxembourg\",[\"Year\",\"GDP_Per_Capita\"]]\n",
    "plt.plot(gdp_lux[\"Year\"],gdp_lux[\"GDP_Per_Capita\"])"
   ]
  },
  {
   "cell_type": "markdown",
   "id": "7f5744de-c9a6-4104-93d9-71cbdfc4e334",
   "metadata": {},
   "source": [
    "**13. Which country had the lowest GDP per capita in 2020? Create a plot showing how this country's GDP per capita has changed over the timespan of the dataset. **Bonus question:** Is it true in general that coutries had a higher GDP per capita in 2020 than in 1990? Which countries had lower GDP per capita in 2020 than in 1990?**\n"
   ]
  },
  {
   "cell_type": "code",
   "execution_count": 28,
   "id": "76daedf1-a736-4c2f-9933-3b6ac64c5702",
   "metadata": {},
   "outputs": [
    {
     "name": "stdout",
     "output_type": "stream",
     "text": [
      "                       Country  Year  GDP_Per_Capita\n",
      "1046                   Burundi  2020      833.920257\n",
      "1302  Central African Republic  2020     1136.570530\n",
      "1734           Dem. Rep. Congo  2020     1277.632863\n",
      "6699                   Somalia  2020     1396.053436\n",
      "5133                Mozambique  2020     1466.124765\n",
      "...                        ...   ...             ...\n",
      "741                    Bermuda  2020    87894.401174\n",
      "3493                   Ireland  2020   102989.787335\n",
      "6119                     Qatar  2020   103061.913414\n",
      "6514                 Singapore  2020   115304.149459\n",
      "4426                Luxembourg  2020   128256.560341\n",
      "\n",
      "[247 rows x 3 columns]\n"
     ]
    }
   ],
   "source": [
    "low_gdp_country=gdp_df.loc[gdp_df[\"Year\"]==2020]\n",
    "#print(high_gdp_country)\n",
    "bottom_gdp=high_gdp_country.sort_values(\"GDP_Per_Capita\")\n",
    "print(bottom_gdp)"
   ]
  },
  {
   "cell_type": "code",
   "execution_count": 29,
   "id": "424d87df-3af6-4bef-a286-988be4976b4e",
   "metadata": {},
   "outputs": [
    {
     "data": {
      "text/plain": [
       "[<matplotlib.lines.Line2D at 0x227b251c550>]"
      ]
     },
     "execution_count": 29,
     "metadata": {},
     "output_type": "execute_result"
    },
    {
     "data": {
      "image/png": "[encoded data removed]",
      "text/plain": [
       "<Figure size 640x480 with 1 Axes>"
      ]
     },
     "metadata": {},
     "output_type": "display_data"
    }
   ],
   "source": [
    "gdp_bur=gdp_df.loc[gdp_df[\"Country\"] == \"Burundi\",[\"Year\",\"GDP_Per_Capita\"]]\n",
    "plt.plot(gdp_bur[\"Year\"],gdp_bur[\"GDP_Per_Capita\"])"
   ]
  },
  {
   "cell_type": "markdown",
   "id": "22b064a0-9d1b-487c-99cd-986d5d9a6c8a",
   "metadata": {},
   "source": [
    "**14. Read in the internet use dataset into a DataFrame named `internet_df`. You will likely get errors when doing this. Check the arguments for the read_csv function to find ones that can help correct the errors (https://pandas.pydata.org/docs/reference/api/pandas.read_csv.html) Once you are able to read it in, take per a look at the top and bottom few rows to make sure that it has been read in correctly. Also, check the datatypes of the columns.**\n"
   ]
  },
  {
   "cell_type": "code",
   "execution_count": 33,
   "id": "a5b26d96-2a74-4ac0-ae87-6c9041c41e66",
   "metadata": {},
   "outputs": [
    {
     "name": "stdout",
     "output_type": "stream",
     "text": [
      "     Country or Area  Year      Value Value Footnotes\n",
      "0        Afghanistan  2019  17.600000               1\n",
      "1        Afghanistan  2018  16.800000               2\n",
      "2        Afghanistan  2017  13.500000               3\n",
      "3        Afghanistan  2016  11.000000               4\n",
      "4        Afghanistan  2015   8.260000               4\n",
      "...              ...   ...        ...             ...\n",
      "6078        Zimbabwe  1997   0.033080             NaN\n",
      "6079        Zimbabwe  1996   0.016790             NaN\n",
      "6080        Zimbabwe  1995   0.007684             NaN\n",
      "6081        Zimbabwe  1994   0.001739             NaN\n",
      "6082        Zimbabwe  1990   0.000000             NaN\n",
      "\n",
      "[6083 rows x 4 columns]\n"
     ]
    },
    {
     "data": {
      "text/plain": [
       "Country or Area     object\n",
       "Year                 int64\n",
       "Value              float64\n",
       "Value Footnotes     object\n",
       "dtype: object"
      ]
     },
     "execution_count": 33,
     "metadata": {},
     "output_type": "execute_result"
    }
   ],
   "source": [
    "internet_df=pd.read_csv('../data/internet_use.csv', on_bad_lines='skip',engine='python',skipfooter=298)\n",
    "print(internet_df)\n",
    "internet_df.dtypes\n"
   ]
  },
  {
   "cell_type": "markdown",
   "id": "adb1651c-4ae9-4a0e-8d92-2fe309fdf64a",
   "metadata": {},
   "source": [
    "**15. Drop the `Value Footnotes` column and rename the remaining three to 'Country', 'Year', and 'Internet_Users_Pct'.**\n"
   ]
  },
  {
   "cell_type": "code",
   "execution_count": 37,
   "id": "2b143216-bedf-49dd-9213-a98b8fd17561",
   "metadata": {},
   "outputs": [
    {
     "name": "stdout",
     "output_type": "stream",
     "text": [
      "          Country  Year  Internet_Users_Pct\n",
      "0     Afghanistan  2019           17.600000\n",
      "1     Afghanistan  2018           16.800000\n",
      "2     Afghanistan  2017           13.500000\n",
      "3     Afghanistan  2016           11.000000\n",
      "4     Afghanistan  2015            8.260000\n",
      "...           ...   ...                 ...\n",
      "6078     Zimbabwe  1997            0.033080\n",
      "6079     Zimbabwe  1996            0.016790\n",
      "6080     Zimbabwe  1995            0.007684\n",
      "6081     Zimbabwe  1994            0.001739\n",
      "6082     Zimbabwe  1990            0.000000\n",
      "\n",
      "[6083 rows x 3 columns]\n"
     ]
    }
   ],
   "source": [
    "internet_df=internet_df.drop(columns = ['Value Footnotes'])\n",
    "internet_df=internet_df.rename(columns={\"Country or Area\":\"Country\",\"Value\":\"Internet_Users_Pct\"})\n",
    "print(internet_df)"
   ]
  },
  {
   "cell_type": "markdown",
   "id": "c59c1a28-5a17-410f-8f5c-b03541bf9a22",
   "metadata": {},
   "source": [
    "**16. Look at the number of observations in this dataset per year. What do you notice?**\n"
   ]
  },
  {
   "cell_type": "code",
   "execution_count": 35,
   "id": "2c318f52-a949-4a90-b411-fde937aed310",
   "metadata": {},
   "outputs": [],
   "source": [
    "internet_obs=internet_df.Year.value_counts().reset_index()\n",
    "sorted_internet_obs=internet_obs.sort_values(\"Year\")\n",
    "#sns.barplot(x='Year', y='count', data=internet_obs)"
   ]
  },
  {
   "cell_type": "markdown",
   "id": "d976b874-842e-457d-b83b-25a084d3ced2",
   "metadata": {},
   "source": [
    "**17. What is the first year to have a non-zero internet users percentage value?**\n"
   ]
  },
  {
   "cell_type": "code",
   "execution_count": 38,
   "id": "3c2476ec-e59e-48d3-88dc-3a068c8c392b",
   "metadata": {},
   "outputs": [
    {
     "data": {
      "text/html": [
       "<div>\n",
       "<style scoped>\n",
       "    .dataframe tbody tr th:only-of-type {\n",
       "        vertical-align: middle;\n",
       "    }\n",
       "\n",
       "    .dataframe tbody tr th {\n",
       "        vertical-align: top;\n",
       "    }\n",
       "\n",
       "    .dataframe thead th {\n",
       "        text-align: right;\n",
       "    }\n",
       "</style>\n",
       "<table border=\"1\" class=\"dataframe\">\n",
       "  <thead>\n",
       "    <tr style=\"text-align: right;\">\n",
       "      <th></th>\n",
       "      <th>Country</th>\n",
       "      <th>Year</th>\n",
       "      <th>Internet_Users_Pct</th>\n",
       "    </tr>\n",
       "  </thead>\n",
       "  <tbody>\n",
       "    <tr>\n",
       "      <th>4197</th>\n",
       "      <td>Norway</td>\n",
       "      <td>1990</td>\n",
       "      <td>0.707299</td>\n",
       "    </tr>\n",
       "    <tr>\n",
       "      <th>2829</th>\n",
       "      <td>Italy</td>\n",
       "      <td>1990</td>\n",
       "      <td>0.017545</td>\n",
       "    </tr>\n",
       "    <tr>\n",
       "      <th>3980</th>\n",
       "      <td>Netherlands (Kingdom of the)</td>\n",
       "      <td>1990</td>\n",
       "      <td>0.334387</td>\n",
       "    </tr>\n",
       "    <tr>\n",
       "      <th>2192</th>\n",
       "      <td>Germany</td>\n",
       "      <td>1990</td>\n",
       "      <td>0.125892</td>\n",
       "    </tr>\n",
       "    <tr>\n",
       "      <th>2796</th>\n",
       "      <td>Israel</td>\n",
       "      <td>1990</td>\n",
       "      <td>0.110774</td>\n",
       "    </tr>\n",
       "    <tr>\n",
       "      <th>...</th>\n",
       "      <td>...</td>\n",
       "      <td>...</td>\n",
       "      <td>...</td>\n",
       "    </tr>\n",
       "    <tr>\n",
       "      <th>3141</th>\n",
       "      <td>Latvia</td>\n",
       "      <td>2023</td>\n",
       "      <td>92.187900</td>\n",
       "    </tr>\n",
       "    <tr>\n",
       "      <th>677</th>\n",
       "      <td>Bosnia and Herzegovina</td>\n",
       "      <td>2023</td>\n",
       "      <td>83.377200</td>\n",
       "    </tr>\n",
       "    <tr>\n",
       "      <th>427</th>\n",
       "      <td>Bangladesh</td>\n",
       "      <td>2023</td>\n",
       "      <td>44.502700</td>\n",
       "    </tr>\n",
       "    <tr>\n",
       "      <th>5266</th>\n",
       "      <td>Sweden</td>\n",
       "      <td>2023</td>\n",
       "      <td>95.703300</td>\n",
       "    </tr>\n",
       "    <tr>\n",
       "      <th>1537</th>\n",
       "      <td>Denmark</td>\n",
       "      <td>2023</td>\n",
       "      <td>98.775600</td>\n",
       "    </tr>\n",
       "  </tbody>\n",
       "</table>\n",
       "<p>5803 rows × 3 columns</p>\n",
       "</div>"
      ],
      "text/plain": [
       "                           Country  Year  Internet_Users_Pct\n",
       "4197                        Norway  1990            0.707299\n",
       "2829                         Italy  1990            0.017545\n",
       "3980  Netherlands (Kingdom of the)  1990            0.334387\n",
       "2192                       Germany  1990            0.125892\n",
       "2796                        Israel  1990            0.110774\n",
       "...                            ...   ...                 ...\n",
       "3141                        Latvia  2023           92.187900\n",
       "677         Bosnia and Herzegovina  2023           83.377200\n",
       "427                     Bangladesh  2023           44.502700\n",
       "5266                        Sweden  2023           95.703300\n",
       "1537                       Denmark  2023           98.775600\n",
       "\n",
       "[5803 rows x 3 columns]"
      ]
     },
     "execution_count": 38,
     "metadata": {},
     "output_type": "execute_result"
    }
   ],
   "source": [
    "internet_df.loc[internet_df[\"Internet_Users_Pct\"]!=0].sort_values(\"Year\")"
   ]
  },
  {
   "cell_type": "markdown",
   "id": "19426e6e-a4b4-4aa7-a594-0b23df1bf56d",
   "metadata": {},
   "source": [
    "**18. How does the distribution of internet users percent differ for 2000 and 2014?**\n"
   ]
  },
  {
   "cell_type": "code",
   "execution_count": 40,
   "id": "53d628d4-313e-4048-b61c-3025dd0dada5",
   "metadata": {},
   "outputs": [
    {
     "data": {
      "text/html": [
       "<div>\n",
       "<style scoped>\n",
       "    .dataframe tbody tr th:only-of-type {\n",
       "        vertical-align: middle;\n",
       "    }\n",
       "\n",
       "    .dataframe tbody tr th {\n",
       "        vertical-align: top;\n",
       "    }\n",
       "\n",
       "    .dataframe thead th {\n",
       "        text-align: right;\n",
       "    }\n",
       "</style>\n",
       "<table border=\"1\" class=\"dataframe\">\n",
       "  <thead>\n",
       "    <tr style=\"text-align: right;\">\n",
       "      <th></th>\n",
       "      <th>Country</th>\n",
       "      <th>Year</th>\n",
       "      <th>Internet_Users_Pct</th>\n",
       "    </tr>\n",
       "  </thead>\n",
       "  <tbody>\n",
       "    <tr>\n",
       "      <th>5</th>\n",
       "      <td>Afghanistan</td>\n",
       "      <td>2014</td>\n",
       "      <td>7.000000</td>\n",
       "    </tr>\n",
       "    <tr>\n",
       "      <th>28</th>\n",
       "      <td>Albania</td>\n",
       "      <td>2014</td>\n",
       "      <td>54.300000</td>\n",
       "    </tr>\n",
       "    <tr>\n",
       "      <th>42</th>\n",
       "      <td>Albania</td>\n",
       "      <td>2000</td>\n",
       "      <td>0.114097</td>\n",
       "    </tr>\n",
       "    <tr>\n",
       "      <th>57</th>\n",
       "      <td>Algeria</td>\n",
       "      <td>2014</td>\n",
       "      <td>29.500000</td>\n",
       "    </tr>\n",
       "    <tr>\n",
       "      <th>71</th>\n",
       "      <td>Algeria</td>\n",
       "      <td>2000</td>\n",
       "      <td>0.491706</td>\n",
       "    </tr>\n",
       "    <tr>\n",
       "      <th>...</th>\n",
       "      <td>...</td>\n",
       "      <td>...</td>\n",
       "      <td>...</td>\n",
       "    </tr>\n",
       "    <tr>\n",
       "      <th>6017</th>\n",
       "      <td>Yemen</td>\n",
       "      <td>2000</td>\n",
       "      <td>0.082500</td>\n",
       "    </tr>\n",
       "    <tr>\n",
       "      <th>6031</th>\n",
       "      <td>Zambia</td>\n",
       "      <td>2014</td>\n",
       "      <td>6.500000</td>\n",
       "    </tr>\n",
       "    <tr>\n",
       "      <th>6045</th>\n",
       "      <td>Zambia</td>\n",
       "      <td>2000</td>\n",
       "      <td>0.191072</td>\n",
       "    </tr>\n",
       "    <tr>\n",
       "      <th>6061</th>\n",
       "      <td>Zimbabwe</td>\n",
       "      <td>2014</td>\n",
       "      <td>16.364700</td>\n",
       "    </tr>\n",
       "    <tr>\n",
       "      <th>6075</th>\n",
       "      <td>Zimbabwe</td>\n",
       "      <td>2000</td>\n",
       "      <td>0.401434</td>\n",
       "    </tr>\n",
       "  </tbody>\n",
       "</table>\n",
       "<p>414 rows × 3 columns</p>\n",
       "</div>"
      ],
      "text/plain": [
       "          Country  Year  Internet_Users_Pct\n",
       "5     Afghanistan  2014            7.000000\n",
       "28        Albania  2014           54.300000\n",
       "42        Albania  2000            0.114097\n",
       "57        Algeria  2014           29.500000\n",
       "71        Algeria  2000            0.491706\n",
       "...           ...   ...                 ...\n",
       "6017        Yemen  2000            0.082500\n",
       "6031       Zambia  2014            6.500000\n",
       "6045       Zambia  2000            0.191072\n",
       "6061     Zimbabwe  2014           16.364700\n",
       "6075     Zimbabwe  2000            0.401434\n",
       "\n",
       "[414 rows x 3 columns]"
      ]
     },
     "execution_count": 40,
     "metadata": {},
     "output_type": "execute_result"
    }
   ],
   "source": [
    "internet_2000_2014=internet_df.loc[internet_df.Year.isin([2000,2014])]\n",
    "internet_2000_2014"
   ]
  },
  {
   "cell_type": "code",
   "execution_count": 41,
   "id": "4038fe70-1109-406c-8462-a218b7255543",
   "metadata": {},
   "outputs": [
    {
     "data": {
      "text/plain": [
       "<Axes: xlabel='Year', ylabel='Internet_Users_Pct'>"
      ]
     },
     "execution_count": 41,
     "metadata": {},
     "output_type": "execute_result"
    },
    {
     "data": {
      "image/png": "[encoded data removed]",
      "text/plain": [
       "<Figure size 640x480 with 1 Axes>"
      ]
     },
     "metadata": {},
     "output_type": "display_data"
    }
   ],
   "source": [
    "sns.boxplot(data = internet_2000_2014, x = 'Year', y = 'Internet_Users_Pct')"
   ]
  },
  {
   "cell_type": "code",
   "execution_count": null,
   "id": "956557ce-5511-44f4-bcc8-d6432bd53cd3",
   "metadata": {},
   "outputs": [],
   "source": [
    "sns.scatterplot(x='Year', y='Internet_Users_Pct', data=internet_2000_2014)"
   ]
  },
  {
   "cell_type": "markdown",
   "id": "afa7bd5e-f9b4-419c-92d0-5302c3dab47d",
   "metadata": {},
   "source": [
    "**19. For how many countries was the percentage of internet users below 5% in 2014?**\n"
   ]
  },
  {
   "cell_type": "code",
   "execution_count": 43,
   "id": "6410d469-9820-42b5-9163-650719b799a3",
   "metadata": {},
   "outputs": [
    {
     "data": {
      "text/plain": [
       "Country    10\n",
       "dtype: int64"
      ]
     },
     "execution_count": 43,
     "metadata": {},
     "output_type": "execute_result"
    }
   ],
   "source": [
    "internet_df.loc[(internet_df[\"Year\"] == 2014) & (internet_df[\"Internet_Users_Pct\"] < 5),[\"Country\"]].count()\n"
   ]
  },
  {
   "cell_type": "markdown",
   "id": "a200ceac-698a-4a68-9518-29dba19fa7b8",
   "metadata": {},
   "source": [
    "**20. Merge the two DataFrames to one. Do this in a way that keeps **all rows** from each of the two DataFrames. Call the new DataFrame `gdp_and_internet_use`. Look at the first and last few rows to confirm that it merged correctly.**\n"
   ]
  },
  {
   "cell_type": "code",
   "execution_count": 44,
   "id": "e4c4cf25-185c-475e-98b0-49a5da30c4da",
   "metadata": {},
   "outputs": [
    {
     "name": "stdout",
     "output_type": "stream",
     "text": [
      "          Country  Year  GDP_Per_Capita  Internet_Users_Pct\n",
      "0     Afghanistan  1990             NaN            0.000000\n",
      "1     Afghanistan  2000     1617.826475                 NaN\n",
      "2     Afghanistan  2001     1454.110782            0.004723\n",
      "3     Afghanistan  2002     1774.308743            0.004561\n",
      "4     Afghanistan  2003     1815.928200            0.087891\n",
      "...           ...   ...             ...                 ...\n",
      "9494     Zimbabwe  2019     3294.806084           26.588300\n",
      "9495     Zimbabwe  2020     2987.269823           29.298600\n",
      "9496     Zimbabwe  2021     3184.785451           32.461600\n",
      "9497     Zimbabwe  2022     3323.121932           32.561500\n",
      "9498     Zimbabwe  2023     3442.251327                 NaN\n",
      "\n",
      "[9499 rows x 4 columns]\n"
     ]
    }
   ],
   "source": [
    "gdp_and_internet_use=pd.merge(gdp_df, internet_df, on=['Country','Year'], how='outer')\n",
    "print(gdp_and_internet_use)\n"
   ]
  },
  {
   "cell_type": "markdown",
   "id": "3ace2dfb-7ef4-4ba6-990b-7e6b87d4bf1c",
   "metadata": {},
   "source": [
    "**21. Find the three countries with the highest internet users percentage in 2014. Use a seaborn FacetGrid (https://seaborn.pydata.org/generated/seaborn.FacetGrid.html) to compare how the GDP per capita has changed over time for these three countries. What do you notice?**"
   ]
  },
  {
   "cell_type": "code",
   "execution_count": 45,
   "id": "155fb9a7-6d99-4d76-be38-32014bf9aacd",
   "metadata": {},
   "outputs": [
    {
     "name": "stdout",
     "output_type": "stream",
     "text": [
      "3944                        Iceland\n",
      "2867    Falkland (Malvinas) Islands\n",
      "824                         Bermuda\n",
      "Name: Country, dtype: object\n"
     ]
    }
   ],
   "source": [
    "top3_country=gdp_and_internet_use.loc[gdp_and_internet_use[\"Year\"]==2014].sort_values(\"Internet_Users_Pct\",ascending=False).Country.head(3)\n",
    "#top3_country=gdp_and_internet_use.loc[gdp_and_internet_use[\"Year\"]==2014].sort_values(\"Internet_Users_Pct\",ascending=False).head()\n",
    "print(top3_country)"
   ]
  },
  {
   "cell_type": "code",
   "execution_count": 46,
   "id": "e62b7a95-036d-475d-8220-81a7c4cfa29d",
   "metadata": {},
   "outputs": [],
   "source": [
    "top3_2014_gdp=gdp_and_internet_use.loc[gdp_and_internet_use.Country.isin(top3_country)]\n"
   ]
  },
  {
   "cell_type": "code",
   "execution_count": 47,
   "id": "cbfbffcf-2148-4d20-9228-14e068f447d7",
   "metadata": {},
   "outputs": [
    {
     "data": {
      "text/plain": [
       "<seaborn.axisgrid.FacetGrid at 0x227b2377770>"
      ]
     },
     "execution_count": 47,
     "metadata": {},
     "output_type": "execute_result"
    },
    {
     "data": {
      "image/png": "[encoded data removed]",
      "text/plain": [
       "<Figure size 900x300 with 3 Axes>"
      ]
     },
     "metadata": {},
     "output_type": "display_data"
    }
   ],
   "source": [
    "top_3=sns.FacetGrid(top3_2014_gdp,col=\"Country\")\n",
    "top_3.map(sns.lineplot, 'Year', 'GDP_Per_Capita')"
   ]
  },
  {
   "cell_type": "markdown",
   "id": "f72d7f89-e89e-476f-b37f-858681ff87ab",
   "metadata": {},
   "source": [
    "**22. Subset `gdp_and_internet_use` to just the year 2014. Save this as a new dataframe named `gdp_and_internet_use_2014`.**\n"
   ]
  },
  {
   "cell_type": "code",
   "execution_count": 48,
   "id": "abc6fe01-e3d7-4de3-b5af-299d140a7e21",
   "metadata": {},
   "outputs": [
    {
     "data": {
      "text/html": [
       "<div>\n",
       "<style scoped>\n",
       "    .dataframe tbody tr th:only-of-type {\n",
       "        vertical-align: middle;\n",
       "    }\n",
       "\n",
       "    .dataframe tbody tr th {\n",
       "        vertical-align: top;\n",
       "    }\n",
       "\n",
       "    .dataframe thead th {\n",
       "        text-align: right;\n",
       "    }\n",
       "</style>\n",
       "<table border=\"1\" class=\"dataframe\">\n",
       "  <thead>\n",
       "    <tr style=\"text-align: right;\">\n",
       "      <th></th>\n",
       "      <th>Country</th>\n",
       "      <th>Year</th>\n",
       "      <th>GDP_Per_Capita</th>\n",
       "      <th>Internet_Users_Pct</th>\n",
       "    </tr>\n",
       "  </thead>\n",
       "  <tbody>\n",
       "    <tr>\n",
       "      <th>15</th>\n",
       "      <td>Afghanistan</td>\n",
       "      <td>2014</td>\n",
       "      <td>3017.942544</td>\n",
       "      <td>7.0000</td>\n",
       "    </tr>\n",
       "    <tr>\n",
       "      <th>49</th>\n",
       "      <td>Africa Eastern and Southern</td>\n",
       "      <td>2014</td>\n",
       "      <td>4052.851526</td>\n",
       "      <td>NaN</td>\n",
       "    </tr>\n",
       "    <tr>\n",
       "      <th>83</th>\n",
       "      <td>Africa Western and Central</td>\n",
       "      <td>2014</td>\n",
       "      <td>4816.917355</td>\n",
       "      <td>NaN</td>\n",
       "    </tr>\n",
       "    <tr>\n",
       "      <th>117</th>\n",
       "      <td>Albania</td>\n",
       "      <td>2014</td>\n",
       "      <td>12788.747231</td>\n",
       "      <td>54.3000</td>\n",
       "    </tr>\n",
       "    <tr>\n",
       "      <th>151</th>\n",
       "      <td>Algeria</td>\n",
       "      <td>2014</td>\n",
       "      <td>15073.762940</td>\n",
       "      <td>29.5000</td>\n",
       "    </tr>\n",
       "    <tr>\n",
       "      <th>...</th>\n",
       "      <td>...</td>\n",
       "      <td>...</td>\n",
       "      <td>...</td>\n",
       "      <td>...</td>\n",
       "    </tr>\n",
       "    <tr>\n",
       "      <th>9361</th>\n",
       "      <td>West Bank and Gaza</td>\n",
       "      <td>2014</td>\n",
       "      <td>5990.426615</td>\n",
       "      <td>NaN</td>\n",
       "    </tr>\n",
       "    <tr>\n",
       "      <th>9395</th>\n",
       "      <td>World</td>\n",
       "      <td>2014</td>\n",
       "      <td>17307.606891</td>\n",
       "      <td>NaN</td>\n",
       "    </tr>\n",
       "    <tr>\n",
       "      <th>9424</th>\n",
       "      <td>Yemen</td>\n",
       "      <td>2014</td>\n",
       "      <td>NaN</td>\n",
       "      <td>22.5500</td>\n",
       "    </tr>\n",
       "    <tr>\n",
       "      <th>9455</th>\n",
       "      <td>Zambia</td>\n",
       "      <td>2014</td>\n",
       "      <td>3585.577485</td>\n",
       "      <td>6.5000</td>\n",
       "    </tr>\n",
       "    <tr>\n",
       "      <th>9489</th>\n",
       "      <td>Zimbabwe</td>\n",
       "      <td>2014</td>\n",
       "      <td>3360.552173</td>\n",
       "      <td>16.3647</td>\n",
       "    </tr>\n",
       "  </tbody>\n",
       "</table>\n",
       "<p>285 rows × 4 columns</p>\n",
       "</div>"
      ],
      "text/plain": [
       "                          Country  Year  GDP_Per_Capita  Internet_Users_Pct\n",
       "15                    Afghanistan  2014     3017.942544              7.0000\n",
       "49    Africa Eastern and Southern  2014     4052.851526                 NaN\n",
       "83     Africa Western and Central  2014     4816.917355                 NaN\n",
       "117                       Albania  2014    12788.747231             54.3000\n",
       "151                       Algeria  2014    15073.762940             29.5000\n",
       "...                           ...   ...             ...                 ...\n",
       "9361           West Bank and Gaza  2014     5990.426615                 NaN\n",
       "9395                        World  2014    17307.606891                 NaN\n",
       "9424                        Yemen  2014             NaN             22.5500\n",
       "9455                       Zambia  2014     3585.577485              6.5000\n",
       "9489                     Zimbabwe  2014     3360.552173             16.3647\n",
       "\n",
       "[285 rows x 4 columns]"
      ]
     },
     "execution_count": 48,
     "metadata": {},
     "output_type": "execute_result"
    }
   ],
   "source": [
    "gdp_and_internet_use_2014=gdp_and_internet_use.loc[gdp_and_internet_use[\"Year\"]==2014]\n",
    "gdp_and_internet_use_2014"
   ]
  },
  {
   "cell_type": "markdown",
   "id": "470ed042-c289-4739-ad37-849cd619f15f",
   "metadata": {},
   "source": [
    "**23. Create a plot which compares Internet Users Percentage and GDP per Capita for the year 2014. What do you notice from this plot? If you see any unusual points, investigate them.**\n"
   ]
  },
  {
   "cell_type": "code",
   "execution_count": 49,
   "id": "0eb08caa-1644-48f8-98ac-f40c0b66edae",
   "metadata": {},
   "outputs": [
    {
     "data": {
      "text/plain": [
       "<Axes: xlabel='GDP_Per_Capita', ylabel='Internet_Users_Pct'>"
      ]
     },
     "execution_count": 49,
     "metadata": {},
     "output_type": "execute_result"
    },
    {
     "data": {
      "image/png": "[encoded data removed]",
      "text/plain": [
       "<Figure size 640x480 with 1 Axes>"
      ]
     },
     "metadata": {},
     "output_type": "display_data"
    }
   ],
   "source": [
    "sns.scatterplot(data=gdp_and_internet_use_2014,x=\"GDP_Per_Capita\",y=\"Internet_Users_Pct\")"
   ]
  },
  {
   "cell_type": "markdown",
   "id": "e3d4dd92-a132-4aa6-99fc-09a57e3977e3",
   "metadata": {},
   "source": [
    "**24. **Stretch Question:** Use the `qcut` function from pandas (https://pandas.pydata.org/docs/reference/api/pandas.qcut.html) to divide countries in `gdp_per_capita_2014` into three groups based on their GDP per capita values. Label these groups as \"Low\", \"Medium\", and \"High\". Put these labels in a new column, named \"GDP_group\".**\n"
   ]
  },
  {
   "cell_type": "code",
   "execution_count": 63,
   "id": "391302e1-191f-4fdf-8399-6d2e07dcc551",
   "metadata": {},
   "outputs": [
    {
     "name": "stderr",
     "output_type": "stream",
     "text": [
      "C:\\Users\\krith\\AppData\\Local\\Temp\\ipykernel_876\\3750278930.py:1: SettingWithCopyWarning: \n",
      "A value is trying to be set on a copy of a slice from a DataFrame.\n",
      "Try using .loc[row_indexer,col_indexer] = value instead\n",
      "\n",
      "See the caveats in the documentation: https://pandas.pydata.org/pandas-docs/stable/user_guide/indexing.html#returning-a-view-versus-a-copy\n",
      "  gdp_and_internet_use_2014['GDP_group']=pd.qcut(gdp_and_internet_use_2014.GDP_Per_Capita, 3, labels=['Low', 'Medium', 'High'])\n"
     ]
    },
    {
     "data": {
      "text/html": [
       "<div>\n",
       "<style scoped>\n",
       "    .dataframe tbody tr th:only-of-type {\n",
       "        vertical-align: middle;\n",
       "    }\n",
       "\n",
       "    .dataframe tbody tr th {\n",
       "        vertical-align: top;\n",
       "    }\n",
       "\n",
       "    .dataframe thead th {\n",
       "        text-align: right;\n",
       "    }\n",
       "</style>\n",
       "<table border=\"1\" class=\"dataframe\">\n",
       "  <thead>\n",
       "    <tr style=\"text-align: right;\">\n",
       "      <th></th>\n",
       "      <th>Country</th>\n",
       "      <th>Year</th>\n",
       "      <th>GDP_Per_Capita</th>\n",
       "      <th>Internet_Users_Pct</th>\n",
       "      <th>GDP_group</th>\n",
       "    </tr>\n",
       "  </thead>\n",
       "  <tbody>\n",
       "    <tr>\n",
       "      <th>15</th>\n",
       "      <td>Afghanistan</td>\n",
       "      <td>2014</td>\n",
       "      <td>3017.942544</td>\n",
       "      <td>7.0000</td>\n",
       "      <td>Low</td>\n",
       "    </tr>\n",
       "    <tr>\n",
       "      <th>49</th>\n",
       "      <td>Africa Eastern and Southern</td>\n",
       "      <td>2014</td>\n",
       "      <td>4052.851526</td>\n",
       "      <td>NaN</td>\n",
       "      <td>Low</td>\n",
       "    </tr>\n",
       "    <tr>\n",
       "      <th>83</th>\n",
       "      <td>Africa Western and Central</td>\n",
       "      <td>2014</td>\n",
       "      <td>4816.917355</td>\n",
       "      <td>NaN</td>\n",
       "      <td>Low</td>\n",
       "    </tr>\n",
       "    <tr>\n",
       "      <th>117</th>\n",
       "      <td>Albania</td>\n",
       "      <td>2014</td>\n",
       "      <td>12788.747231</td>\n",
       "      <td>54.3000</td>\n",
       "      <td>Medium</td>\n",
       "    </tr>\n",
       "    <tr>\n",
       "      <th>151</th>\n",
       "      <td>Algeria</td>\n",
       "      <td>2014</td>\n",
       "      <td>15073.762940</td>\n",
       "      <td>29.5000</td>\n",
       "      <td>Medium</td>\n",
       "    </tr>\n",
       "    <tr>\n",
       "      <th>...</th>\n",
       "      <td>...</td>\n",
       "      <td>...</td>\n",
       "      <td>...</td>\n",
       "      <td>...</td>\n",
       "      <td>...</td>\n",
       "    </tr>\n",
       "    <tr>\n",
       "      <th>9361</th>\n",
       "      <td>West Bank and Gaza</td>\n",
       "      <td>2014</td>\n",
       "      <td>5990.426615</td>\n",
       "      <td>NaN</td>\n",
       "      <td>Low</td>\n",
       "    </tr>\n",
       "    <tr>\n",
       "      <th>9395</th>\n",
       "      <td>World</td>\n",
       "      <td>2014</td>\n",
       "      <td>17307.606891</td>\n",
       "      <td>NaN</td>\n",
       "      <td>Medium</td>\n",
       "    </tr>\n",
       "    <tr>\n",
       "      <th>9424</th>\n",
       "      <td>Yemen</td>\n",
       "      <td>2014</td>\n",
       "      <td>NaN</td>\n",
       "      <td>22.5500</td>\n",
       "      <td>NaN</td>\n",
       "    </tr>\n",
       "    <tr>\n",
       "      <th>9455</th>\n",
       "      <td>Zambia</td>\n",
       "      <td>2014</td>\n",
       "      <td>3585.577485</td>\n",
       "      <td>6.5000</td>\n",
       "      <td>Low</td>\n",
       "    </tr>\n",
       "    <tr>\n",
       "      <th>9489</th>\n",
       "      <td>Zimbabwe</td>\n",
       "      <td>2014</td>\n",
       "      <td>3360.552173</td>\n",
       "      <td>16.3647</td>\n",
       "      <td>Low</td>\n",
       "    </tr>\n",
       "  </tbody>\n",
       "</table>\n",
       "<p>285 rows × 5 columns</p>\n",
       "</div>"
      ],
      "text/plain": [
       "                          Country  Year  GDP_Per_Capita  Internet_Users_Pct  \\\n",
       "15                    Afghanistan  2014     3017.942544              7.0000   \n",
       "49    Africa Eastern and Southern  2014     4052.851526                 NaN   \n",
       "83     Africa Western and Central  2014     4816.917355                 NaN   \n",
       "117                       Albania  2014    12788.747231             54.3000   \n",
       "151                       Algeria  2014    15073.762940             29.5000   \n",
       "...                           ...   ...             ...                 ...   \n",
       "9361           West Bank and Gaza  2014     5990.426615                 NaN   \n",
       "9395                        World  2014    17307.606891                 NaN   \n",
       "9424                        Yemen  2014             NaN             22.5500   \n",
       "9455                       Zambia  2014     3585.577485              6.5000   \n",
       "9489                     Zimbabwe  2014     3360.552173             16.3647   \n",
       "\n",
       "     GDP_group  \n",
       "15         Low  \n",
       "49         Low  \n",
       "83         Low  \n",
       "117     Medium  \n",
       "151     Medium  \n",
       "...        ...  \n",
       "9361       Low  \n",
       "9395    Medium  \n",
       "9424       NaN  \n",
       "9455       Low  \n",
       "9489       Low  \n",
       "\n",
       "[285 rows x 5 columns]"
      ]
     },
     "execution_count": 63,
     "metadata": {},
     "output_type": "execute_result"
    }
   ],
   "source": [
    "gdp_and_internet_use_2014['GDP_group']=pd.qcut(gdp_and_internet_use_2014.GDP_Per_Capita, 3, labels=['Low', 'Medium', 'High'])\n",
    "gdp_and_internet_use_2014"
   ]
  },
  {
   "cell_type": "markdown",
   "id": "d963b6e1-f38c-4537-a186-4e4e1d399b74",
   "metadata": {},
   "source": [
    "**25. **Stretch Question:** How does the median internet users percentage compare for the three gdp groups?**\n"
   ]
  },
  {
   "cell_type": "code",
   "execution_count": 64,
   "id": "fe3b4d8a-1aa2-4212-98b4-3f21d266212c",
   "metadata": {},
   "outputs": [
    {
     "name": "stderr",
     "output_type": "stream",
     "text": [
      "C:\\Users\\krith\\AppData\\Local\\Temp\\ipykernel_876\\3243212726.py:1: FutureWarning: The default of observed=False is deprecated and will be changed to True in a future version of pandas. Pass observed=False to retain current behavior or observed=True to adopt the future default and silence this warning.\n",
      "  gdp_and_internet_use_2014.groupby('GDP_group')[\"Internet_Users_Pct\"].median()\n"
     ]
    },
    {
     "data": {
      "text/plain": [
       "GDP_group\n",
       "Low       11.6000\n",
       "Medium    44.5945\n",
       "High      75.9800\n",
       "Name: Internet_Users_Pct, dtype: float64"
      ]
     },
     "execution_count": 64,
     "metadata": {},
     "output_type": "execute_result"
    }
   ],
   "source": [
    "gdp_and_internet_use_2014.groupby('GDP_group')[\"Internet_Users_Pct\"].median()"
   ]
  },
  {
   "cell_type": "code",
   "execution_count": null,
   "id": "72733903-c66f-4bd7-911b-2e827dbbcf6f",
   "metadata": {},
   "outputs": [],
   "source": []
  }
 ],
 "metadata": {
  "kernelspec": {
   "display_name": "Python [conda env:base] *",
   "language": "python",
   "name": "conda-base-py"
  },
  "language_info": {
   "codemirror_mode": {
    "name": "ipython",
    "version": 3
   },
   "file_extension": ".py",
   "mimetype": "text/x-python",
   "name": "python",
   "nbconvert_exporter": "python",
   "pygments_lexer": "ipython3",
   "version": "3.13.5"
  }
 },
 "nbformat": 4,
 "nbformat_minor": 5
}
